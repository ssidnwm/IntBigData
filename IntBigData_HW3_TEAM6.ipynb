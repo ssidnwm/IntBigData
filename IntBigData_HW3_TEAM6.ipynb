{
  "nbformat": 4,
  "nbformat_minor": 0,
  "metadata": {
    "colab": {
      "provenance": []
    },
    "kernelspec": {
      "name": "python3",
      "display_name": "Python 3"
    },
    "language_info": {
      "name": "python"
    }
  },
  "cells": [
    {
      "cell_type": "markdown",
      "source": [
        "###Introduction to Big Data\n",
        "- HW:3\n",
        "- TEAM: 6\n",
        "- Memebers: 22000245 Moon Byeori\n",
        "        "
      ],
      "metadata": {
        "id": "JXeMnCg0d54V"
      }
    },
    {
      "cell_type": "markdown",
      "source": [
        "# < Question 1 – All Movies data >"
      ],
      "metadata": {
        "id": "KaHMyyfS6gwS"
      }
    },
    {
      "cell_type": "markdown",
      "source": [
        "( 1-1, 5 pts ) Import “movies_dataset_from_allmovie.json” to a pandas dataframe typed variable\n",
        "called movie_df and show the first 5 rows."
      ],
      "metadata": {
        "id": "GuWxQN9X6ieJ"
      }
    },
    {
      "cell_type": "code",
      "source": [
        "from google.colab import drive #Mount Google Drive\n",
        "drive.mount('/content/drive')"
      ],
      "metadata": {
        "colab": {
          "base_uri": "https://localhost:8080/"
        },
        "id": "3C9ASgxO769M",
        "outputId": "cebde69c-e9c7-462b-b70c-54fd0bdffc3a"
      },
      "execution_count": null,
      "outputs": [
        {
          "output_type": "stream",
          "name": "stdout",
          "text": [
            "Mounted at /content/drive\n"
          ]
        }
      ]
    },
    {
      "cell_type": "code",
      "source": [
        "import pandas as pd #pandas moduls import\n",
        "import json #json moduls import\n",
        "\n",
        "movie_df = pd.read_json('/content/drive/MyDrive/IntBigData/movies_dataset_from_allmovie.json') #Read in the json file via the correct path and store it in the movie_df variable\n",
        "movie_df.head(5) #Output the top 5 rows"
      ],
      "metadata": {
        "colab": {
          "base_uri": "https://localhost:8080/",
          "height": 701
        },
        "collapsed": true,
        "id": "oiNCHE-w6h8h",
        "outputId": "23a85848-b0e1-4ce7-94e2-bd75e27843b1"
      },
      "execution_count": null,
      "outputs": [
        {
          "output_type": "stream",
          "name": "stderr",
          "text": [
            "<ipython-input-4-b740d4c0e8d5>:4: FutureWarning: The behavior of 'to_datetime' with 'unit' when parsing strings is deprecated. In a future version, strings will be parsed as datetime strings, matching the behavior without a 'unit'. To retain the old behavior, explicitly cast ints or floats to numeric type before calling to_datetime.\n",
            "  movie_df = pd.read_json('/content/drive/MyDrive/IntBigData/movies_dataset_from_allmovie.json') #정확한 경로를 통해 json파일을 읽어들이고 movie_df변수에 저장\n",
            "<ipython-input-4-b740d4c0e8d5>:4: FutureWarning: The behavior of 'to_datetime' with 'unit' when parsing strings is deprecated. In a future version, strings will be parsed as datetime strings, matching the behavior without a 'unit'. To retain the old behavior, explicitly cast ints or floats to numeric type before calling to_datetime.\n",
            "  movie_df = pd.read_json('/content/drive/MyDrive/IntBigData/movies_dataset_from_allmovie.json') #정확한 경로를 통해 json파일을 읽어들이고 movie_df변수에 저장\n",
            "<ipython-input-4-b740d4c0e8d5>:4: FutureWarning: The behavior of 'to_datetime' with 'unit' when parsing strings is deprecated. In a future version, strings will be parsed as datetime strings, matching the behavior without a 'unit'. To retain the old behavior, explicitly cast ints or floats to numeric type before calling to_datetime.\n",
            "  movie_df = pd.read_json('/content/drive/MyDrive/IntBigData/movies_dataset_from_allmovie.json') #정확한 경로를 통해 json파일을 읽어들이고 movie_df변수에 저장\n"
          ]
        },
        {
          "output_type": "execute_result",
          "data": {
            "text/plain": [
              "                                              name                  genre  \\\n",
              "0  10 Days, 10 Years: Nicaraguan Elections of 1990  Culture &amp; Society   \n",
              "1   1-2-3 Magic: Effective Discipline for Children              Education   \n",
              "2                        10 Keys to Personal Power               Business   \n",
              "3           10,000 Maniacs: Time Capsule 1982-1990                  Music   \n",
              "4                              10 Rillington Place           Crime, Drama   \n",
              "\n",
              "  released_at                                             poster language  \\\n",
              "0  1990-01-01                                                               \n",
              "1  1990-01-01                                                     English   \n",
              "2         NaT                                                               \n",
              "3  1990-01-01  https://cps-static.rovicorp.com/1/avg/cov310/d...  English   \n",
              "4  1971-02-10  https://cps-static.rovicorp.com/2/Open/Sony%20...  English   \n",
              "\n",
              "            director                     domain duration  \\\n",
              "0                     https://www.allmovie.com/    0H54M   \n",
              "1                     https://www.allmovie.com/     2H0M   \n",
              "2                     https://www.allmovie.com/     1H4M   \n",
              "3                     https://www.allmovie.com/    0H58M   \n",
              "4  Richard Fleischer  https://www.allmovie.com/    1H51M   \n",
              "\n",
              "                                            synopsis  \\\n",
              "0                                                      \n",
              "1  Presented by clinical psychiatrist Thomas Phel...   \n",
              "2                                                      \n",
              "3  With their thoughtful folk rock sound and lyri...   \n",
              "4  10 Rillington Place is the true story of Briti...   \n",
              "\n",
              "                                             trailer average_rating  \\\n",
              "0                                                                     \n",
              "1                                                                     \n",
              "2                                                                     \n",
              "3                                                                     \n",
              "4  https://video.internetvideoarchive.net/video.m...            8.1   \n",
              "\n",
              "                                                cast          crawled_at  \\\n",
              "0                                                    2021-05-02 20:30:28   \n",
              "1                                                    2021-05-02 20:30:29   \n",
              "2                                                    2021-05-02 20:30:29   \n",
              "3                                                    2021-05-02 20:30:29   \n",
              "4  10 Rillington Place, Richard Attenborough, Jud... 2021-05-02 20:30:29   \n",
              "\n",
              "                                                 url  \\\n",
              "0  https://www.allmovie.com/movie/10-days-10-year...   \n",
              "1  https://www.allmovie.com/movie/1-2-3-magic-eff...   \n",
              "2  https://www.allmovie.com/movie/10-keys-to-pers...   \n",
              "3  https://www.allmovie.com/movie/10000-maniacs-t...   \n",
              "4  https://www.allmovie.com/movie/10-rillington-p...   \n",
              "\n",
              "                                    _id  \n",
              "0  72706835-65b7-5559-9d16-73c43b2667bd  \n",
              "1  81e8678a-1cf5-58d7-ae5e-1b6ae80d0835  \n",
              "2  0d09f252-ca38-5e85-8d5f-a91a3f32dc4c  \n",
              "3  5b8e0dbb-3b48-5600-a544-651f9020245d  \n",
              "4  2b5d82ef-2429-52fb-b5ab-ffbd7ede3c3b  "
            ],
            "text/html": [
              "\n",
              "  <div id=\"df-10e9964b-e46d-431a-9420-08f1edfc7d28\" class=\"colab-df-container\">\n",
              "    <div>\n",
              "<style scoped>\n",
              "    .dataframe tbody tr th:only-of-type {\n",
              "        vertical-align: middle;\n",
              "    }\n",
              "\n",
              "    .dataframe tbody tr th {\n",
              "        vertical-align: top;\n",
              "    }\n",
              "\n",
              "    .dataframe thead th {\n",
              "        text-align: right;\n",
              "    }\n",
              "</style>\n",
              "<table border=\"1\" class=\"dataframe\">\n",
              "  <thead>\n",
              "    <tr style=\"text-align: right;\">\n",
              "      <th></th>\n",
              "      <th>name</th>\n",
              "      <th>genre</th>\n",
              "      <th>released_at</th>\n",
              "      <th>poster</th>\n",
              "      <th>language</th>\n",
              "      <th>director</th>\n",
              "      <th>domain</th>\n",
              "      <th>duration</th>\n",
              "      <th>synopsis</th>\n",
              "      <th>trailer</th>\n",
              "      <th>average_rating</th>\n",
              "      <th>cast</th>\n",
              "      <th>crawled_at</th>\n",
              "      <th>url</th>\n",
              "      <th>_id</th>\n",
              "    </tr>\n",
              "  </thead>\n",
              "  <tbody>\n",
              "    <tr>\n",
              "      <th>0</th>\n",
              "      <td>10 Days, 10 Years: Nicaraguan Elections of 1990</td>\n",
              "      <td>Culture &amp;amp; Society</td>\n",
              "      <td>1990-01-01</td>\n",
              "      <td></td>\n",
              "      <td></td>\n",
              "      <td></td>\n",
              "      <td>https://www.allmovie.com/</td>\n",
              "      <td>0H54M</td>\n",
              "      <td></td>\n",
              "      <td></td>\n",
              "      <td></td>\n",
              "      <td></td>\n",
              "      <td>2021-05-02 20:30:28</td>\n",
              "      <td>https://www.allmovie.com/movie/10-days-10-year...</td>\n",
              "      <td>72706835-65b7-5559-9d16-73c43b2667bd</td>\n",
              "    </tr>\n",
              "    <tr>\n",
              "      <th>1</th>\n",
              "      <td>1-2-3 Magic: Effective Discipline for Children</td>\n",
              "      <td>Education</td>\n",
              "      <td>1990-01-01</td>\n",
              "      <td></td>\n",
              "      <td>English</td>\n",
              "      <td></td>\n",
              "      <td>https://www.allmovie.com/</td>\n",
              "      <td>2H0M</td>\n",
              "      <td>Presented by clinical psychiatrist Thomas Phel...</td>\n",
              "      <td></td>\n",
              "      <td></td>\n",
              "      <td></td>\n",
              "      <td>2021-05-02 20:30:29</td>\n",
              "      <td>https://www.allmovie.com/movie/1-2-3-magic-eff...</td>\n",
              "      <td>81e8678a-1cf5-58d7-ae5e-1b6ae80d0835</td>\n",
              "    </tr>\n",
              "    <tr>\n",
              "      <th>2</th>\n",
              "      <td>10 Keys to Personal Power</td>\n",
              "      <td>Business</td>\n",
              "      <td>NaT</td>\n",
              "      <td></td>\n",
              "      <td></td>\n",
              "      <td></td>\n",
              "      <td>https://www.allmovie.com/</td>\n",
              "      <td>1H4M</td>\n",
              "      <td></td>\n",
              "      <td></td>\n",
              "      <td></td>\n",
              "      <td></td>\n",
              "      <td>2021-05-02 20:30:29</td>\n",
              "      <td>https://www.allmovie.com/movie/10-keys-to-pers...</td>\n",
              "      <td>0d09f252-ca38-5e85-8d5f-a91a3f32dc4c</td>\n",
              "    </tr>\n",
              "    <tr>\n",
              "      <th>3</th>\n",
              "      <td>10,000 Maniacs: Time Capsule 1982-1990</td>\n",
              "      <td>Music</td>\n",
              "      <td>1990-01-01</td>\n",
              "      <td>https://cps-static.rovicorp.com/1/avg/cov310/d...</td>\n",
              "      <td>English</td>\n",
              "      <td></td>\n",
              "      <td>https://www.allmovie.com/</td>\n",
              "      <td>0H58M</td>\n",
              "      <td>With their thoughtful folk rock sound and lyri...</td>\n",
              "      <td></td>\n",
              "      <td></td>\n",
              "      <td></td>\n",
              "      <td>2021-05-02 20:30:29</td>\n",
              "      <td>https://www.allmovie.com/movie/10000-maniacs-t...</td>\n",
              "      <td>5b8e0dbb-3b48-5600-a544-651f9020245d</td>\n",
              "    </tr>\n",
              "    <tr>\n",
              "      <th>4</th>\n",
              "      <td>10 Rillington Place</td>\n",
              "      <td>Crime, Drama</td>\n",
              "      <td>1971-02-10</td>\n",
              "      <td>https://cps-static.rovicorp.com/2/Open/Sony%20...</td>\n",
              "      <td>English</td>\n",
              "      <td>Richard Fleischer</td>\n",
              "      <td>https://www.allmovie.com/</td>\n",
              "      <td>1H51M</td>\n",
              "      <td>10 Rillington Place is the true story of Briti...</td>\n",
              "      <td>https://video.internetvideoarchive.net/video.m...</td>\n",
              "      <td>8.1</td>\n",
              "      <td>10 Rillington Place, Richard Attenborough, Jud...</td>\n",
              "      <td>2021-05-02 20:30:29</td>\n",
              "      <td>https://www.allmovie.com/movie/10-rillington-p...</td>\n",
              "      <td>2b5d82ef-2429-52fb-b5ab-ffbd7ede3c3b</td>\n",
              "    </tr>\n",
              "  </tbody>\n",
              "</table>\n",
              "</div>\n",
              "    <div class=\"colab-df-buttons\">\n",
              "\n",
              "  <div class=\"colab-df-container\">\n",
              "    <button class=\"colab-df-convert\" onclick=\"convertToInteractive('df-10e9964b-e46d-431a-9420-08f1edfc7d28')\"\n",
              "            title=\"Convert this dataframe to an interactive table.\"\n",
              "            style=\"display:none;\">\n",
              "\n",
              "  <svg xmlns=\"http://www.w3.org/2000/svg\" height=\"24px\" viewBox=\"0 -960 960 960\">\n",
              "    <path d=\"M120-120v-720h720v720H120Zm60-500h600v-160H180v160Zm220 220h160v-160H400v160Zm0 220h160v-160H400v160ZM180-400h160v-160H180v160Zm440 0h160v-160H620v160ZM180-180h160v-160H180v160Zm440 0h160v-160H620v160Z\"/>\n",
              "  </svg>\n",
              "    </button>\n",
              "\n",
              "  <style>\n",
              "    .colab-df-container {\n",
              "      display:flex;\n",
              "      gap: 12px;\n",
              "    }\n",
              "\n",
              "    .colab-df-convert {\n",
              "      background-color: #E8F0FE;\n",
              "      border: none;\n",
              "      border-radius: 50%;\n",
              "      cursor: pointer;\n",
              "      display: none;\n",
              "      fill: #1967D2;\n",
              "      height: 32px;\n",
              "      padding: 0 0 0 0;\n",
              "      width: 32px;\n",
              "    }\n",
              "\n",
              "    .colab-df-convert:hover {\n",
              "      background-color: #E2EBFA;\n",
              "      box-shadow: 0px 1px 2px rgba(60, 64, 67, 0.3), 0px 1px 3px 1px rgba(60, 64, 67, 0.15);\n",
              "      fill: #174EA6;\n",
              "    }\n",
              "\n",
              "    .colab-df-buttons div {\n",
              "      margin-bottom: 4px;\n",
              "    }\n",
              "\n",
              "    [theme=dark] .colab-df-convert {\n",
              "      background-color: #3B4455;\n",
              "      fill: #D2E3FC;\n",
              "    }\n",
              "\n",
              "    [theme=dark] .colab-df-convert:hover {\n",
              "      background-color: #434B5C;\n",
              "      box-shadow: 0px 1px 3px 1px rgba(0, 0, 0, 0.15);\n",
              "      filter: drop-shadow(0px 1px 2px rgba(0, 0, 0, 0.3));\n",
              "      fill: #FFFFFF;\n",
              "    }\n",
              "  </style>\n",
              "\n",
              "    <script>\n",
              "      const buttonEl =\n",
              "        document.querySelector('#df-10e9964b-e46d-431a-9420-08f1edfc7d28 button.colab-df-convert');\n",
              "      buttonEl.style.display =\n",
              "        google.colab.kernel.accessAllowed ? 'block' : 'none';\n",
              "\n",
              "      async function convertToInteractive(key) {\n",
              "        const element = document.querySelector('#df-10e9964b-e46d-431a-9420-08f1edfc7d28');\n",
              "        const dataTable =\n",
              "          await google.colab.kernel.invokeFunction('convertToInteractive',\n",
              "                                                    [key], {});\n",
              "        if (!dataTable) return;\n",
              "\n",
              "        const docLinkHtml = 'Like what you see? Visit the ' +\n",
              "          '<a target=\"_blank\" href=https://colab.research.google.com/notebooks/data_table.ipynb>data table notebook</a>'\n",
              "          + ' to learn more about interactive tables.';\n",
              "        element.innerHTML = '';\n",
              "        dataTable['output_type'] = 'display_data';\n",
              "        await google.colab.output.renderOutput(dataTable, element);\n",
              "        const docLink = document.createElement('div');\n",
              "        docLink.innerHTML = docLinkHtml;\n",
              "        element.appendChild(docLink);\n",
              "      }\n",
              "    </script>\n",
              "  </div>\n",
              "\n",
              "\n",
              "<div id=\"df-7bd186c4-8ed6-42b1-8836-055313e5777d\">\n",
              "  <button class=\"colab-df-quickchart\" onclick=\"quickchart('df-7bd186c4-8ed6-42b1-8836-055313e5777d')\"\n",
              "            title=\"Suggest charts\"\n",
              "            style=\"display:none;\">\n",
              "\n",
              "<svg xmlns=\"http://www.w3.org/2000/svg\" height=\"24px\"viewBox=\"0 0 24 24\"\n",
              "     width=\"24px\">\n",
              "    <g>\n",
              "        <path d=\"M19 3H5c-1.1 0-2 .9-2 2v14c0 1.1.9 2 2 2h14c1.1 0 2-.9 2-2V5c0-1.1-.9-2-2-2zM9 17H7v-7h2v7zm4 0h-2V7h2v10zm4 0h-2v-4h2v4z\"/>\n",
              "    </g>\n",
              "</svg>\n",
              "  </button>\n",
              "\n",
              "<style>\n",
              "  .colab-df-quickchart {\n",
              "      --bg-color: #E8F0FE;\n",
              "      --fill-color: #1967D2;\n",
              "      --hover-bg-color: #E2EBFA;\n",
              "      --hover-fill-color: #174EA6;\n",
              "      --disabled-fill-color: #AAA;\n",
              "      --disabled-bg-color: #DDD;\n",
              "  }\n",
              "\n",
              "  [theme=dark] .colab-df-quickchart {\n",
              "      --bg-color: #3B4455;\n",
              "      --fill-color: #D2E3FC;\n",
              "      --hover-bg-color: #434B5C;\n",
              "      --hover-fill-color: #FFFFFF;\n",
              "      --disabled-bg-color: #3B4455;\n",
              "      --disabled-fill-color: #666;\n",
              "  }\n",
              "\n",
              "  .colab-df-quickchart {\n",
              "    background-color: var(--bg-color);\n",
              "    border: none;\n",
              "    border-radius: 50%;\n",
              "    cursor: pointer;\n",
              "    display: none;\n",
              "    fill: var(--fill-color);\n",
              "    height: 32px;\n",
              "    padding: 0;\n",
              "    width: 32px;\n",
              "  }\n",
              "\n",
              "  .colab-df-quickchart:hover {\n",
              "    background-color: var(--hover-bg-color);\n",
              "    box-shadow: 0 1px 2px rgba(60, 64, 67, 0.3), 0 1px 3px 1px rgba(60, 64, 67, 0.15);\n",
              "    fill: var(--button-hover-fill-color);\n",
              "  }\n",
              "\n",
              "  .colab-df-quickchart-complete:disabled,\n",
              "  .colab-df-quickchart-complete:disabled:hover {\n",
              "    background-color: var(--disabled-bg-color);\n",
              "    fill: var(--disabled-fill-color);\n",
              "    box-shadow: none;\n",
              "  }\n",
              "\n",
              "  .colab-df-spinner {\n",
              "    border: 2px solid var(--fill-color);\n",
              "    border-color: transparent;\n",
              "    border-bottom-color: var(--fill-color);\n",
              "    animation:\n",
              "      spin 1s steps(1) infinite;\n",
              "  }\n",
              "\n",
              "  @keyframes spin {\n",
              "    0% {\n",
              "      border-color: transparent;\n",
              "      border-bottom-color: var(--fill-color);\n",
              "      border-left-color: var(--fill-color);\n",
              "    }\n",
              "    20% {\n",
              "      border-color: transparent;\n",
              "      border-left-color: var(--fill-color);\n",
              "      border-top-color: var(--fill-color);\n",
              "    }\n",
              "    30% {\n",
              "      border-color: transparent;\n",
              "      border-left-color: var(--fill-color);\n",
              "      border-top-color: var(--fill-color);\n",
              "      border-right-color: var(--fill-color);\n",
              "    }\n",
              "    40% {\n",
              "      border-color: transparent;\n",
              "      border-right-color: var(--fill-color);\n",
              "      border-top-color: var(--fill-color);\n",
              "    }\n",
              "    60% {\n",
              "      border-color: transparent;\n",
              "      border-right-color: var(--fill-color);\n",
              "    }\n",
              "    80% {\n",
              "      border-color: transparent;\n",
              "      border-right-color: var(--fill-color);\n",
              "      border-bottom-color: var(--fill-color);\n",
              "    }\n",
              "    90% {\n",
              "      border-color: transparent;\n",
              "      border-bottom-color: var(--fill-color);\n",
              "    }\n",
              "  }\n",
              "</style>\n",
              "\n",
              "  <script>\n",
              "    async function quickchart(key) {\n",
              "      const quickchartButtonEl =\n",
              "        document.querySelector('#' + key + ' button');\n",
              "      quickchartButtonEl.disabled = true;  // To prevent multiple clicks.\n",
              "      quickchartButtonEl.classList.add('colab-df-spinner');\n",
              "      try {\n",
              "        const charts = await google.colab.kernel.invokeFunction(\n",
              "            'suggestCharts', [key], {});\n",
              "      } catch (error) {\n",
              "        console.error('Error during call to suggestCharts:', error);\n",
              "      }\n",
              "      quickchartButtonEl.classList.remove('colab-df-spinner');\n",
              "      quickchartButtonEl.classList.add('colab-df-quickchart-complete');\n",
              "    }\n",
              "    (() => {\n",
              "      let quickchartButtonEl =\n",
              "        document.querySelector('#df-7bd186c4-8ed6-42b1-8836-055313e5777d button');\n",
              "      quickchartButtonEl.style.display =\n",
              "        google.colab.kernel.accessAllowed ? 'block' : 'none';\n",
              "    })();\n",
              "  </script>\n",
              "</div>\n",
              "\n",
              "    </div>\n",
              "  </div>\n"
            ],
            "application/vnd.google.colaboratory.intrinsic+json": {
              "type": "dataframe",
              "variable_name": "movie_df",
              "summary": "{\n  \"name\": \"movie_df\",\n  \"rows\": 10524,\n  \"fields\": [\n    {\n      \"column\": \"name\",\n      \"properties\": {\n        \"dtype\": \"string\",\n        \"num_unique_values\": 10074,\n        \"samples\": [\n          \"The Dub\",\n          \"Across the Great Divide\",\n          \"Voice of Firestone: Ferruccio Tagliavini in Opera and Song\"\n        ],\n        \"semantic_type\": \"\",\n        \"description\": \"\"\n      }\n    },\n    {\n      \"column\": \"genre\",\n      \"properties\": {\n        \"dtype\": \"category\",\n        \"num_unique_values\": 590,\n        \"samples\": [\n          \"Children's/Family, Historical Film\",\n          \"Action, Crime, Thriller\",\n          \"Historical Film, Action\"\n        ],\n        \"semantic_type\": \"\",\n        \"description\": \"\"\n      }\n    },\n    {\n      \"column\": \"released_at\",\n      \"properties\": {\n        \"dtype\": \"date\",\n        \"min\": \"1906-01-01 00:00:00\",\n        \"max\": \"2020-01-01 00:00:00\",\n        \"num_unique_values\": 1825,\n        \"samples\": [\n          \"1961-10-20 00:00:00\",\n          \"1936-05-15 00:00:00\",\n          \"1961-05-14 00:00:00\"\n        ],\n        \"semantic_type\": \"\",\n        \"description\": \"\"\n      }\n    },\n    {\n      \"column\": \"poster\",\n      \"properties\": {\n        \"dtype\": \"string\",\n        \"num_unique_values\": 6292,\n        \"samples\": [\n          \"https://cps-static.rovicorp.com/1/avg/cov310/drv200/v291/v29144dtlqc.jpg\",\n          \"https://cps-static.rovicorp.com/2/Open/TMDB4_2462/Program/14597/_derived_jpg_q90_480x340_m0/Enchanted_Island_16x9.jpg\",\n          \"https://cps-static.rovicorp.com/1/adg/cov310/drt200/t297/t29728dorqx.jpg\"\n        ],\n        \"semantic_type\": \"\",\n        \"description\": \"\"\n      }\n    },\n    {\n      \"column\": \"language\",\n      \"properties\": {\n        \"dtype\": \"category\",\n        \"num_unique_values\": 2,\n        \"samples\": [\n          \"English\",\n          \"\"\n        ],\n        \"semantic_type\": \"\",\n        \"description\": \"\"\n      }\n    },\n    {\n      \"column\": \"director\",\n      \"properties\": {\n        \"dtype\": \"category\",\n        \"num_unique_values\": 3404,\n        \"samples\": [\n          \"Bruno Corbucci\",\n          \"Ken Hughes\"\n        ],\n        \"semantic_type\": \"\",\n        \"description\": \"\"\n      }\n    },\n    {\n      \"column\": \"domain\",\n      \"properties\": {\n        \"dtype\": \"category\",\n        \"num_unique_values\": 1,\n        \"samples\": [\n          \"https://www.allmovie.com/\"\n        ],\n        \"semantic_type\": \"\",\n        \"description\": \"\"\n      }\n    },\n    {\n      \"column\": \"duration\",\n      \"properties\": {\n        \"dtype\": \"category\",\n        \"num_unique_values\": 216,\n        \"samples\": [\n          \"5H33M\"\n        ],\n        \"semantic_type\": \"\",\n        \"description\": \"\"\n      }\n    },\n    {\n      \"column\": \"synopsis\",\n      \"properties\": {\n        \"dtype\": \"string\",\n        \"num_unique_values\": 6596,\n        \"samples\": [\n          \"This sci-fi adventure was the pilot for a television series Space: 1999. It is set in the next century just after an enormous blast from an alien ship destroys half the moon and sends the rest hurtling through space. Unfortunately, upon the chunk of speeding rock is the research station Alpha which contains 311 people helmed by cool-headed Commander Koenig. Now the Alpha castaways must not only continue to survive, they must also keep up on their research to discover what happened and why.\"\n        ],\n        \"semantic_type\": \"\",\n        \"description\": \"\"\n      }\n    },\n    {\n      \"column\": \"trailer\",\n      \"properties\": {\n        \"dtype\": \"category\",\n        \"num_unique_values\": 2118,\n        \"samples\": [\n          \"https://video.internetvideoarchive.net/video.mp4?fmt=4&cmd=6&videokbrate=450&sub=AllMovie&customerId=198732&PublishedId=333120&e=1620034053&h=f1eac5cf39ff5bb8b320949756aa49f9\"\n        ],\n        \"semantic_type\": \"\",\n        \"description\": \"\"\n      }\n    },\n    {\n      \"column\": \"average_rating\",\n      \"properties\": {\n        \"dtype\": \"category\",\n        \"num_unique_values\": 87,\n        \"samples\": [\n          \"8.6\"\n        ],\n        \"semantic_type\": \"\",\n        \"description\": \"\"\n      }\n    },\n    {\n      \"column\": \"cast\",\n      \"properties\": {\n        \"dtype\": \"category\",\n        \"num_unique_values\": 5054,\n        \"samples\": [\n          \"The Baron and the Kid, June Carter Cash, Johnny Cash, The Gambler, Tracy Pollan, Kenny Rogers, Greg Webb\"\n        ],\n        \"semantic_type\": \"\",\n        \"description\": \"\"\n      }\n    },\n    {\n      \"column\": \"crawled_at\",\n      \"properties\": {\n        \"dtype\": \"date\",\n        \"min\": \"2021-05-02 20:30:28\",\n        \"max\": \"2021-05-02 21:14:25\",\n        \"num_unique_values\": 2064,\n        \"samples\": [\n          \"2021-05-02 21:05:26\"\n        ],\n        \"semantic_type\": \"\",\n        \"description\": \"\"\n      }\n    },\n    {\n      \"column\": \"url\",\n      \"properties\": {\n        \"dtype\": \"string\",\n        \"num_unique_values\": 10524,\n        \"samples\": [\n          \"https://www.allmovie.com/movie/david-steinberg-in-concert-v12560\"\n        ],\n        \"semantic_type\": \"\",\n        \"description\": \"\"\n      }\n    },\n    {\n      \"column\": \"_id\",\n      \"properties\": {\n        \"dtype\": \"string\",\n        \"num_unique_values\": 10524,\n        \"samples\": [\n          \"e2f7d136-dabb-586d-a1e0-75b8c2d8d8aa\"\n        ],\n        \"semantic_type\": \"\",\n        \"description\": \"\"\n      }\n    }\n  ]\n}"
            }
          },
          "metadata": {},
          "execution_count": 4
        }
      ]
    },
    {
      "cell_type": "markdown",
      "source": [
        "( 1-2, 5 pts ) Describe the data dimension of movie_df. (Hint: .shape)"
      ],
      "metadata": {
        "id": "P8gWX0D_8Vrr"
      }
    },
    {
      "cell_type": "code",
      "source": [
        "movie_df.shape #Output the number of rows and columns in movie_df"
      ],
      "metadata": {
        "colab": {
          "base_uri": "https://localhost:8080/"
        },
        "id": "4CE63lMn8m3x",
        "outputId": "6340fb4f-ca7d-4cb4-a39d-6395436847dd"
      },
      "execution_count": null,
      "outputs": [
        {
          "output_type": "execute_result",
          "data": {
            "text/plain": [
              "(10524, 15)"
            ]
          },
          "metadata": {},
          "execution_count": 5
        }
      ]
    },
    {
      "cell_type": "markdown",
      "source": [
        "( 1-3, 5 pts) What are the names of columns used in movie_df?"
      ],
      "metadata": {
        "id": "d-dAvqch8_Sp"
      }
    },
    {
      "cell_type": "code",
      "source": [
        "names = movie_df.columns #Print the column names of movie_df\n",
        "print(names)"
      ],
      "metadata": {
        "colab": {
          "base_uri": "https://localhost:8080/"
        },
        "id": "yX-mKlb99BeI",
        "outputId": "6f634a44-79be-4045-aca8-c9aa115fbf1b"
      },
      "execution_count": null,
      "outputs": [
        {
          "output_type": "stream",
          "name": "stdout",
          "text": [
            "Index(['name', 'genre', 'released_at', 'poster', 'language', 'director',\n",
            "       'domain', 'duration', 'synopsis', 'trailer', 'average_rating', 'cast',\n",
            "       'crawled_at', 'url', '_id'],\n",
            "      dtype='object')\n"
          ]
        }
      ]
    },
    {
      "cell_type": "markdown",
      "source": [
        "( 1-4, 5 pts) How many unique movie genres are included in movie_df?\n"
      ],
      "metadata": {
        "id": "cwdSBi6f9GUf"
      }
    },
    {
      "cell_type": "code",
      "source": [
        "genre = movie_df.genre.unique() # Storing a single count of genres in movie_df as a list,\n",
        "len(genre) #Counting the number of list elements"
      ],
      "metadata": {
        "colab": {
          "base_uri": "https://localhost:8080/"
        },
        "id": "B9y5lJek9I5Y",
        "outputId": "7d405a3c-5db3-4507-ab7d-de2e795d5fd4"
      },
      "execution_count": null,
      "outputs": [
        {
          "output_type": "execute_result",
          "data": {
            "text/plain": [
              "590"
            ]
          },
          "metadata": {},
          "execution_count": 11
        }
      ]
    },
    {
      "cell_type": "markdown",
      "source": [
        "( 1-5, 10 pts) What are the list of movies released in year 2004? To answer this question, we have to\n",
        "use datetime64 variable called “released_at”. Write down Python codes that filters samples released in\n",
        "year 2004. ( Hint: Use .dt.strftime() )."
      ],
      "metadata": {
        "id": "1MhwPS5E9rU5"
      }
    },
    {
      "cell_type": "code",
      "source": [
        "movie_df.released_at # I just checked the released_at variable and it's hard to determine the exact date"
      ],
      "metadata": {
        "colab": {
          "base_uri": "https://localhost:8080/",
          "height": 458
        },
        "id": "FrAU2Rfk-JRx",
        "outputId": "73fea17c-adee-4612-9915-bd64dc8a1dfb"
      },
      "execution_count": null,
      "outputs": [
        {
          "output_type": "execute_result",
          "data": {
            "text/plain": [
              "0       1990-01-01\n",
              "1       1990-01-01\n",
              "2              NaT\n",
              "3       1990-01-01\n",
              "4       1971-02-10\n",
              "           ...    \n",
              "10519   1936-01-01\n",
              "10520   1937-01-01\n",
              "10521   1988-01-01\n",
              "10522   1991-01-01\n",
              "10523   1959-01-01\n",
              "Name: released_at, Length: 10524, dtype: datetime64[ns]"
            ],
            "text/html": [
              "<div>\n",
              "<style scoped>\n",
              "    .dataframe tbody tr th:only-of-type {\n",
              "        vertical-align: middle;\n",
              "    }\n",
              "\n",
              "    .dataframe tbody tr th {\n",
              "        vertical-align: top;\n",
              "    }\n",
              "\n",
              "    .dataframe thead th {\n",
              "        text-align: right;\n",
              "    }\n",
              "</style>\n",
              "<table border=\"1\" class=\"dataframe\">\n",
              "  <thead>\n",
              "    <tr style=\"text-align: right;\">\n",
              "      <th></th>\n",
              "      <th>released_at</th>\n",
              "    </tr>\n",
              "  </thead>\n",
              "  <tbody>\n",
              "    <tr>\n",
              "      <th>0</th>\n",
              "      <td>1990-01-01</td>\n",
              "    </tr>\n",
              "    <tr>\n",
              "      <th>1</th>\n",
              "      <td>1990-01-01</td>\n",
              "    </tr>\n",
              "    <tr>\n",
              "      <th>2</th>\n",
              "      <td>NaT</td>\n",
              "    </tr>\n",
              "    <tr>\n",
              "      <th>3</th>\n",
              "      <td>1990-01-01</td>\n",
              "    </tr>\n",
              "    <tr>\n",
              "      <th>4</th>\n",
              "      <td>1971-02-10</td>\n",
              "    </tr>\n",
              "    <tr>\n",
              "      <th>...</th>\n",
              "      <td>...</td>\n",
              "    </tr>\n",
              "    <tr>\n",
              "      <th>10519</th>\n",
              "      <td>1936-01-01</td>\n",
              "    </tr>\n",
              "    <tr>\n",
              "      <th>10520</th>\n",
              "      <td>1937-01-01</td>\n",
              "    </tr>\n",
              "    <tr>\n",
              "      <th>10521</th>\n",
              "      <td>1988-01-01</td>\n",
              "    </tr>\n",
              "    <tr>\n",
              "      <th>10522</th>\n",
              "      <td>1991-01-01</td>\n",
              "    </tr>\n",
              "    <tr>\n",
              "      <th>10523</th>\n",
              "      <td>1959-01-01</td>\n",
              "    </tr>\n",
              "  </tbody>\n",
              "</table>\n",
              "<p>10524 rows × 1 columns</p>\n",
              "</div><br><label><b>dtype:</b> datetime64[ns]</label>"
            ]
          },
          "metadata": {},
          "execution_count": 12
        }
      ]
    },
    {
      "cell_type": "code",
      "source": [
        "movie_df['released_at'] = pd.to_datetime(movie_df['released_at']) # Changed the type of the released_at variable to the data type\n",
        "movies_2004 = movie_df[movie_df['released_at'].dt.strftime('%Y') == '2004'] #From the release_at variable, strftime outputs an entry with the year 2004 in the strftime.\n",
        "print(movies_2004['name'])"
      ],
      "metadata": {
        "colab": {
          "base_uri": "https://localhost:8080/"
        },
        "id": "Vc5IwWLt9tIJ",
        "outputId": "cd4b6a1e-6b63-4f8d-faea-2350e06e9f6a"
      },
      "execution_count": null,
      "outputs": [
        {
          "output_type": "stream",
          "name": "stdout",
          "text": [
            "2810                             Beyond the Next Mountain\n",
            "2912                                      The Big Red One\n",
            "3002    Billy Graham Classic Message: The Road to Arma...\n",
            "7071                                 D-Day: Plus 40 Years\n",
            "9099                          Salute to Jelly Roll Morton\n",
            "Name: name, dtype: object\n"
          ]
        }
      ]
    },
    {
      "cell_type": "markdown",
      "source": [
        "( 1-6, 10 pts) Which genres take the greatest proportion in movie_df and its proportion? To figure this\n",
        "out, write down Python codes that generate results below. Do you think this result is sufficient? If you\n",
        "think not, suggest an alternative solution.\n"
      ],
      "metadata": {
        "id": "qtJasIGlBXYG"
      }
    },
    {
      "cell_type": "code",
      "source": [
        "\n",
        "genres = movie_df.genre #After checking the list element, we have a genre for each work, so we need to calculate the percentage for each.\n",
        "genres_count = pd.Series(genres).value_counts() # Count each element in an array\n",
        "ratio = genres_count/genres_count.sum()\n",
        "print(ratio.head(5))\n",
        "print(ratio.tail(5))\n"
      ],
      "metadata": {
        "colab": {
          "base_uri": "https://localhost:8080/"
        },
        "id": "8ZcZSj6XDk8o",
        "outputId": "7538c5ef-d81c-4e60-bac9-7d7d6e45a2e6"
      },
      "execution_count": null,
      "outputs": [
        {
          "output_type": "stream",
          "name": "stdout",
          "text": [
            "genre\n",
            "Drama                      0.094166\n",
            "Music                      0.082003\n",
            "Comedy                     0.062429\n",
            "Sports &amp; Recreation    0.047605\n",
            "History                    0.043995\n",
            "Name: count, dtype: float64\n",
            "genre\n",
            "Romance, Sports &amp; Recreation                    0.000095\n",
            "History, Travel                                     0.000095\n",
            "Culture &amp; Society, Language &amp; Literature    0.000095\n",
            "Crime, Comedy                                       0.000095\n",
            "Action, Adult, Adventure, Drama, Western            0.000095\n",
            "Name: count, dtype: float64\n"
          ]
        }
      ]
    },
    {
      "cell_type": "code",
      "source": [
        "genre = movie_df.genre.unique() # Storing a single count of genres in movie_df as a list,\n",
        "genre #After checking the list element, we have a genre for each work, so we need to calculate the percentage for each.\n",
        "genre1 = movie_df.genre\n",
        "genres = [genre1.strip() for sublist in genre1 for genre1 in sublist.split(',') if genre1.strip()] # Separates elements in each array based on , for genre\n",
        "genre_counts = pd.Series(genres).value_counts() # Count each element in an array\n",
        "genre_ratios = genre_counts / genre_counts.sum()# Calculated the percentage of each array element = genre by dividing each element by the total number\n",
        "print(genre_ratios.head(5))\n",
        "print(genre_ratios.tail(5))"
      ],
      "metadata": {
        "colab": {
          "base_uri": "https://localhost:8080/"
        },
        "id": "9YFjAhWuBj8g",
        "outputId": "c2fd6d25-8ecd-4931-f5d7-596dc9a07c8e"
      },
      "execution_count": null,
      "outputs": [
        {
          "output_type": "stream",
          "name": "stdout",
          "text": [
            "Drama                0.125018\n",
            "Comedy               0.075713\n",
            "Music                0.075081\n",
            "Action               0.072763\n",
            "Children's/Family    0.054994\n",
            "Name: count, dtype: float64\n",
            "Education                              0.002669\n",
            "Business                               0.002318\n",
            "Family &amp; Personal Relationships    0.002318\n",
            "Epic                                   0.002248\n",
            "News [TV]                              0.000070\n",
            "Name: count, dtype: float64\n"
          ]
        }
      ]
    },
    {
      "cell_type": "markdown",
      "source": [
        "( 1-7, 10 pts) What is the name of director who has made the most films? To answer this question,\n",
        "write down Python codes that generates results below."
      ],
      "metadata": {
        "id": "YeRz-zSrE1mJ"
      }
    },
    {
      "cell_type": "code",
      "source": [
        "director1 = movie_df.director.value_counts().head(5) #count director columns value and print 5 heads\n",
        "director2 = movie_df.director.value_counts().tail(5)#count director columns value and print 5 tails\n",
        "combined_directors = pd.concat([director1, director2])# merge 2 values\n",
        "print(combined_directors)\n"
      ],
      "metadata": {
        "colab": {
          "base_uri": "https://localhost:8080/"
        },
        "id": "lZiwL7LHE3Kn",
        "outputId": "f35ea971-9d97-4af5-8b5a-66e91fb2e667"
      },
      "execution_count": null,
      "outputs": [
        {
          "output_type": "stream",
          "name": "stdout",
          "text": [
            "director\n",
            "                       4551\n",
            "Sam Newfield             20\n",
            "Michael Curtiz           16\n",
            "William Berke            12\n",
            "Richard Fleischer        12\n",
            "George Bowers             1\n",
            "Gerry Lively              1\n",
            "Marcelo Epstein           1\n",
            "J.G. Patterson, Jr.       1\n",
            "Bill D'Elia               1\n",
            "Name: count, dtype: int64\n"
          ]
        }
      ]
    },
    {
      "cell_type": "markdown",
      "source": [
        "( 1-8, 10 pts) It seems Sam Newfield is the director who made 20 films. Write down Python codes that\n",
        "generates data.frame that presents the frequency of Sam Newfield’s movie genre as shown below."
      ],
      "metadata": {
        "id": "IFNdVL9mGzXN"
      }
    },
    {
      "cell_type": "code",
      "source": [
        "dirSam = movie_df[movie_df['director'] == 'Sam Newfield']# Find and return sam newfield in supervision items\n",
        "genres_count = dirSam['genre'].value_counts()# Count and store the number of genres in the returned dataframes\n",
        "genres_count.columns = ['Genre', 'Count'] #Create a dataframe with genre and count values to output\n",
        "print(genres_count)"
      ],
      "metadata": {
        "colab": {
          "base_uri": "https://localhost:8080/"
        },
        "id": "veskx5dZG2Je",
        "outputId": "6468e28d-2307-40ab-d012-ece2c0abc7dc"
      },
      "execution_count": null,
      "outputs": [
        {
          "output_type": "stream",
          "name": "stdout",
          "text": [
            "genre\n",
            "Action, Western                            8\n",
            "Western                                    5\n",
            "Adventure, Drama                           1\n",
            "Action, Adventure, Western                 1\n",
            "Action, Adventure, Mystery                 1\n",
            "Action, Mystery, Western                   1\n",
            "Drama, Horror                              1\n",
            "Action, Spy Film, Western                  1\n",
            "Action, Crime, Drama, Spy Film, Western    1\n",
            "Name: count, dtype: int64\n"
          ]
        }
      ]
    },
    {
      "cell_type": "markdown",
      "source": [
        "( 1-9, 10 pts) When running a data analysis, not all columns are used, but only the important or highly\n",
        "relevant ones are used. Use movie_df to create a new variable called movie_df_new, which does not\n",
        "include column 'trailer','url','poster', and ‘crawled_at’. Use .drop() method.\n"
      ],
      "metadata": {
        "id": "7pZsC4MUKLwS"
      }
    },
    {
      "cell_type": "code",
      "source": [
        "movie_df_new = movie_df.drop(['trailer', 'url', 'poster', 'crawled_at'], axis=1) #Removed variables that are not needed for the new data frame\n",
        "movie_df_new"
      ],
      "metadata": {
        "colab": {
          "base_uri": "https://localhost:8080/",
          "height": 754
        },
        "collapsed": true,
        "id": "PnaKEpbFKN6H",
        "outputId": "a5b51e7d-ae24-4b09-e1dd-e758e339910b"
      },
      "execution_count": null,
      "outputs": [
        {
          "output_type": "execute_result",
          "data": {
            "text/plain": [
              "                                                  name  \\\n",
              "0      10 Days, 10 Years: Nicaraguan Elections of 1990   \n",
              "1       1-2-3 Magic: Effective Discipline for Children   \n",
              "2                            10 Keys to Personal Power   \n",
              "3               10,000 Maniacs: Time Capsule 1982-1990   \n",
              "4                                  10 Rillington Place   \n",
              "...                                                ...   \n",
              "10519                                 Feud of the West   \n",
              "10520                                Feud of the Trail   \n",
              "10521                                            Fever   \n",
              "10522                                            Fever   \n",
              "10523                         La fièvre monte à El Pao   \n",
              "\n",
              "                            genre released_at language           director  \\\n",
              "0           Culture &amp; Society  1990-01-01                               \n",
              "1                       Education  1990-01-01  English                      \n",
              "2                        Business         NaT                               \n",
              "3                           Music  1990-01-01  English                      \n",
              "4                    Crime, Drama  1971-02-10  English  Richard Fleischer   \n",
              "...                           ...         ...      ...                ...   \n",
              "10519  Action, Adventure, Western  1936-01-01  English       Harry Fraser   \n",
              "10520             Action, Western  1937-01-01  English        Robert Hill   \n",
              "10521                     Mystery  1988-01-01  English       Craig Lahiff   \n",
              "10522                    Thriller  1991-01-01  English      Larry Elikann   \n",
              "10523                       Drama  1959-01-01  English        Luis Buñuel   \n",
              "\n",
              "                          domain duration  \\\n",
              "0      https://www.allmovie.com/    0H54M   \n",
              "1      https://www.allmovie.com/     2H0M   \n",
              "2      https://www.allmovie.com/     1H4M   \n",
              "3      https://www.allmovie.com/    0H58M   \n",
              "4      https://www.allmovie.com/    1H51M   \n",
              "...                          ...      ...   \n",
              "10519  https://www.allmovie.com/     1H2M   \n",
              "10520  https://www.allmovie.com/    0H58M   \n",
              "10521  https://www.allmovie.com/    1H32M   \n",
              "10522  https://www.allmovie.com/    1H36M   \n",
              "10523  https://www.allmovie.com/    1H49M   \n",
              "\n",
              "                                                synopsis average_rating  \\\n",
              "0                                                                         \n",
              "1      Presented by clinical psychiatrist Thomas Phel...                  \n",
              "2                                                                         \n",
              "3      With their thoughtful folk rock sound and lyri...                  \n",
              "4      10 Rillington Place is the true story of Briti...            8.1   \n",
              "...                                                  ...            ...   \n",
              "10519  Neither the best nor worst of Hoot Gibson's we...                  \n",
              "10520  Produced back-to-back with Mystery Range (1937...                  \n",
              "10521  Here's the &quot;dramatis personae&quot; of Th...                  \n",
              "10522  In this violent made-for cable actioner, a pai...                  \n",
              "10523  A moral decay leading to revolution is paralle...            6.8   \n",
              "\n",
              "                                                    cast  \\\n",
              "0                                                          \n",
              "1                                                          \n",
              "2                                                          \n",
              "3                                                          \n",
              "4      10 Rillington Place, Richard Attenborough, Jud...   \n",
              "...                                                  ...   \n",
              "10519  Joan Barclay, Feud of the West, Walter Futter,...   \n",
              "10520  Harlene Wood, Harley Wood, Vane Calvert, Myste...   \n",
              "10521     Bill Hunter, Gary Sweet, Mary Regan, The Fever   \n",
              "10522                                                      \n",
              "10523  Miguel Angle Ferriz, Maria Felix, Gerard Phill...   \n",
              "\n",
              "                                        _id  \n",
              "0      72706835-65b7-5559-9d16-73c43b2667bd  \n",
              "1      81e8678a-1cf5-58d7-ae5e-1b6ae80d0835  \n",
              "2      0d09f252-ca38-5e85-8d5f-a91a3f32dc4c  \n",
              "3      5b8e0dbb-3b48-5600-a544-651f9020245d  \n",
              "4      2b5d82ef-2429-52fb-b5ab-ffbd7ede3c3b  \n",
              "...                                     ...  \n",
              "10519  a74bc05c-d0df-5661-b25f-5c03c2e64195  \n",
              "10520  647e818e-c265-568f-93c4-814c78407942  \n",
              "10521  ce6a7245-636a-57bb-95af-4f434156bc95  \n",
              "10522  e8aa5643-8a6c-52dd-a996-378efb69a964  \n",
              "10523  8629e67b-01b8-50d9-a813-1cf8cbbb35f1  \n",
              "\n",
              "[10524 rows x 11 columns]"
            ],
            "text/html": [
              "\n",
              "  <div id=\"df-03acac32-194e-4565-ae2b-1207a2a878b4\" class=\"colab-df-container\">\n",
              "    <div>\n",
              "<style scoped>\n",
              "    .dataframe tbody tr th:only-of-type {\n",
              "        vertical-align: middle;\n",
              "    }\n",
              "\n",
              "    .dataframe tbody tr th {\n",
              "        vertical-align: top;\n",
              "    }\n",
              "\n",
              "    .dataframe thead th {\n",
              "        text-align: right;\n",
              "    }\n",
              "</style>\n",
              "<table border=\"1\" class=\"dataframe\">\n",
              "  <thead>\n",
              "    <tr style=\"text-align: right;\">\n",
              "      <th></th>\n",
              "      <th>name</th>\n",
              "      <th>genre</th>\n",
              "      <th>released_at</th>\n",
              "      <th>language</th>\n",
              "      <th>director</th>\n",
              "      <th>domain</th>\n",
              "      <th>duration</th>\n",
              "      <th>synopsis</th>\n",
              "      <th>average_rating</th>\n",
              "      <th>cast</th>\n",
              "      <th>_id</th>\n",
              "    </tr>\n",
              "  </thead>\n",
              "  <tbody>\n",
              "    <tr>\n",
              "      <th>0</th>\n",
              "      <td>10 Days, 10 Years: Nicaraguan Elections of 1990</td>\n",
              "      <td>Culture &amp;amp; Society</td>\n",
              "      <td>1990-01-01</td>\n",
              "      <td></td>\n",
              "      <td></td>\n",
              "      <td>https://www.allmovie.com/</td>\n",
              "      <td>0H54M</td>\n",
              "      <td></td>\n",
              "      <td></td>\n",
              "      <td></td>\n",
              "      <td>72706835-65b7-5559-9d16-73c43b2667bd</td>\n",
              "    </tr>\n",
              "    <tr>\n",
              "      <th>1</th>\n",
              "      <td>1-2-3 Magic: Effective Discipline for Children</td>\n",
              "      <td>Education</td>\n",
              "      <td>1990-01-01</td>\n",
              "      <td>English</td>\n",
              "      <td></td>\n",
              "      <td>https://www.allmovie.com/</td>\n",
              "      <td>2H0M</td>\n",
              "      <td>Presented by clinical psychiatrist Thomas Phel...</td>\n",
              "      <td></td>\n",
              "      <td></td>\n",
              "      <td>81e8678a-1cf5-58d7-ae5e-1b6ae80d0835</td>\n",
              "    </tr>\n",
              "    <tr>\n",
              "      <th>2</th>\n",
              "      <td>10 Keys to Personal Power</td>\n",
              "      <td>Business</td>\n",
              "      <td>NaT</td>\n",
              "      <td></td>\n",
              "      <td></td>\n",
              "      <td>https://www.allmovie.com/</td>\n",
              "      <td>1H4M</td>\n",
              "      <td></td>\n",
              "      <td></td>\n",
              "      <td></td>\n",
              "      <td>0d09f252-ca38-5e85-8d5f-a91a3f32dc4c</td>\n",
              "    </tr>\n",
              "    <tr>\n",
              "      <th>3</th>\n",
              "      <td>10,000 Maniacs: Time Capsule 1982-1990</td>\n",
              "      <td>Music</td>\n",
              "      <td>1990-01-01</td>\n",
              "      <td>English</td>\n",
              "      <td></td>\n",
              "      <td>https://www.allmovie.com/</td>\n",
              "      <td>0H58M</td>\n",
              "      <td>With their thoughtful folk rock sound and lyri...</td>\n",
              "      <td></td>\n",
              "      <td></td>\n",
              "      <td>5b8e0dbb-3b48-5600-a544-651f9020245d</td>\n",
              "    </tr>\n",
              "    <tr>\n",
              "      <th>4</th>\n",
              "      <td>10 Rillington Place</td>\n",
              "      <td>Crime, Drama</td>\n",
              "      <td>1971-02-10</td>\n",
              "      <td>English</td>\n",
              "      <td>Richard Fleischer</td>\n",
              "      <td>https://www.allmovie.com/</td>\n",
              "      <td>1H51M</td>\n",
              "      <td>10 Rillington Place is the true story of Briti...</td>\n",
              "      <td>8.1</td>\n",
              "      <td>10 Rillington Place, Richard Attenborough, Jud...</td>\n",
              "      <td>2b5d82ef-2429-52fb-b5ab-ffbd7ede3c3b</td>\n",
              "    </tr>\n",
              "    <tr>\n",
              "      <th>...</th>\n",
              "      <td>...</td>\n",
              "      <td>...</td>\n",
              "      <td>...</td>\n",
              "      <td>...</td>\n",
              "      <td>...</td>\n",
              "      <td>...</td>\n",
              "      <td>...</td>\n",
              "      <td>...</td>\n",
              "      <td>...</td>\n",
              "      <td>...</td>\n",
              "      <td>...</td>\n",
              "    </tr>\n",
              "    <tr>\n",
              "      <th>10519</th>\n",
              "      <td>Feud of the West</td>\n",
              "      <td>Action, Adventure, Western</td>\n",
              "      <td>1936-01-01</td>\n",
              "      <td>English</td>\n",
              "      <td>Harry Fraser</td>\n",
              "      <td>https://www.allmovie.com/</td>\n",
              "      <td>1H2M</td>\n",
              "      <td>Neither the best nor worst of Hoot Gibson's we...</td>\n",
              "      <td></td>\n",
              "      <td>Joan Barclay, Feud of the West, Walter Futter,...</td>\n",
              "      <td>a74bc05c-d0df-5661-b25f-5c03c2e64195</td>\n",
              "    </tr>\n",
              "    <tr>\n",
              "      <th>10520</th>\n",
              "      <td>Feud of the Trail</td>\n",
              "      <td>Action, Western</td>\n",
              "      <td>1937-01-01</td>\n",
              "      <td>English</td>\n",
              "      <td>Robert Hill</td>\n",
              "      <td>https://www.allmovie.com/</td>\n",
              "      <td>0H58M</td>\n",
              "      <td>Produced back-to-back with Mystery Range (1937...</td>\n",
              "      <td></td>\n",
              "      <td>Harlene Wood, Harley Wood, Vane Calvert, Myste...</td>\n",
              "      <td>647e818e-c265-568f-93c4-814c78407942</td>\n",
              "    </tr>\n",
              "    <tr>\n",
              "      <th>10521</th>\n",
              "      <td>Fever</td>\n",
              "      <td>Mystery</td>\n",
              "      <td>1988-01-01</td>\n",
              "      <td>English</td>\n",
              "      <td>Craig Lahiff</td>\n",
              "      <td>https://www.allmovie.com/</td>\n",
              "      <td>1H32M</td>\n",
              "      <td>Here's the &amp;quot;dramatis personae&amp;quot; of Th...</td>\n",
              "      <td></td>\n",
              "      <td>Bill Hunter, Gary Sweet, Mary Regan, The Fever</td>\n",
              "      <td>ce6a7245-636a-57bb-95af-4f434156bc95</td>\n",
              "    </tr>\n",
              "    <tr>\n",
              "      <th>10522</th>\n",
              "      <td>Fever</td>\n",
              "      <td>Thriller</td>\n",
              "      <td>1991-01-01</td>\n",
              "      <td>English</td>\n",
              "      <td>Larry Elikann</td>\n",
              "      <td>https://www.allmovie.com/</td>\n",
              "      <td>1H36M</td>\n",
              "      <td>In this violent made-for cable actioner, a pai...</td>\n",
              "      <td></td>\n",
              "      <td></td>\n",
              "      <td>e8aa5643-8a6c-52dd-a996-378efb69a964</td>\n",
              "    </tr>\n",
              "    <tr>\n",
              "      <th>10523</th>\n",
              "      <td>La fièvre monte à El Pao</td>\n",
              "      <td>Drama</td>\n",
              "      <td>1959-01-01</td>\n",
              "      <td>English</td>\n",
              "      <td>Luis Buñuel</td>\n",
              "      <td>https://www.allmovie.com/</td>\n",
              "      <td>1H49M</td>\n",
              "      <td>A moral decay leading to revolution is paralle...</td>\n",
              "      <td>6.8</td>\n",
              "      <td>Miguel Angle Ferriz, Maria Felix, Gerard Phill...</td>\n",
              "      <td>8629e67b-01b8-50d9-a813-1cf8cbbb35f1</td>\n",
              "    </tr>\n",
              "  </tbody>\n",
              "</table>\n",
              "<p>10524 rows × 11 columns</p>\n",
              "</div>\n",
              "    <div class=\"colab-df-buttons\">\n",
              "\n",
              "  <div class=\"colab-df-container\">\n",
              "    <button class=\"colab-df-convert\" onclick=\"convertToInteractive('df-03acac32-194e-4565-ae2b-1207a2a878b4')\"\n",
              "            title=\"Convert this dataframe to an interactive table.\"\n",
              "            style=\"display:none;\">\n",
              "\n",
              "  <svg xmlns=\"http://www.w3.org/2000/svg\" height=\"24px\" viewBox=\"0 -960 960 960\">\n",
              "    <path d=\"M120-120v-720h720v720H120Zm60-500h600v-160H180v160Zm220 220h160v-160H400v160Zm0 220h160v-160H400v160ZM180-400h160v-160H180v160Zm440 0h160v-160H620v160ZM180-180h160v-160H180v160Zm440 0h160v-160H620v160Z\"/>\n",
              "  </svg>\n",
              "    </button>\n",
              "\n",
              "  <style>\n",
              "    .colab-df-container {\n",
              "      display:flex;\n",
              "      gap: 12px;\n",
              "    }\n",
              "\n",
              "    .colab-df-convert {\n",
              "      background-color: #E8F0FE;\n",
              "      border: none;\n",
              "      border-radius: 50%;\n",
              "      cursor: pointer;\n",
              "      display: none;\n",
              "      fill: #1967D2;\n",
              "      height: 32px;\n",
              "      padding: 0 0 0 0;\n",
              "      width: 32px;\n",
              "    }\n",
              "\n",
              "    .colab-df-convert:hover {\n",
              "      background-color: #E2EBFA;\n",
              "      box-shadow: 0px 1px 2px rgba(60, 64, 67, 0.3), 0px 1px 3px 1px rgba(60, 64, 67, 0.15);\n",
              "      fill: #174EA6;\n",
              "    }\n",
              "\n",
              "    .colab-df-buttons div {\n",
              "      margin-bottom: 4px;\n",
              "    }\n",
              "\n",
              "    [theme=dark] .colab-df-convert {\n",
              "      background-color: #3B4455;\n",
              "      fill: #D2E3FC;\n",
              "    }\n",
              "\n",
              "    [theme=dark] .colab-df-convert:hover {\n",
              "      background-color: #434B5C;\n",
              "      box-shadow: 0px 1px 3px 1px rgba(0, 0, 0, 0.15);\n",
              "      filter: drop-shadow(0px 1px 2px rgba(0, 0, 0, 0.3));\n",
              "      fill: #FFFFFF;\n",
              "    }\n",
              "  </style>\n",
              "\n",
              "    <script>\n",
              "      const buttonEl =\n",
              "        document.querySelector('#df-03acac32-194e-4565-ae2b-1207a2a878b4 button.colab-df-convert');\n",
              "      buttonEl.style.display =\n",
              "        google.colab.kernel.accessAllowed ? 'block' : 'none';\n",
              "\n",
              "      async function convertToInteractive(key) {\n",
              "        const element = document.querySelector('#df-03acac32-194e-4565-ae2b-1207a2a878b4');\n",
              "        const dataTable =\n",
              "          await google.colab.kernel.invokeFunction('convertToInteractive',\n",
              "                                                    [key], {});\n",
              "        if (!dataTable) return;\n",
              "\n",
              "        const docLinkHtml = 'Like what you see? Visit the ' +\n",
              "          '<a target=\"_blank\" href=https://colab.research.google.com/notebooks/data_table.ipynb>data table notebook</a>'\n",
              "          + ' to learn more about interactive tables.';\n",
              "        element.innerHTML = '';\n",
              "        dataTable['output_type'] = 'display_data';\n",
              "        await google.colab.output.renderOutput(dataTable, element);\n",
              "        const docLink = document.createElement('div');\n",
              "        docLink.innerHTML = docLinkHtml;\n",
              "        element.appendChild(docLink);\n",
              "      }\n",
              "    </script>\n",
              "  </div>\n",
              "\n",
              "\n",
              "<div id=\"df-17f876e7-9773-4e65-91d8-d67290e645ef\">\n",
              "  <button class=\"colab-df-quickchart\" onclick=\"quickchart('df-17f876e7-9773-4e65-91d8-d67290e645ef')\"\n",
              "            title=\"Suggest charts\"\n",
              "            style=\"display:none;\">\n",
              "\n",
              "<svg xmlns=\"http://www.w3.org/2000/svg\" height=\"24px\"viewBox=\"0 0 24 24\"\n",
              "     width=\"24px\">\n",
              "    <g>\n",
              "        <path d=\"M19 3H5c-1.1 0-2 .9-2 2v14c0 1.1.9 2 2 2h14c1.1 0 2-.9 2-2V5c0-1.1-.9-2-2-2zM9 17H7v-7h2v7zm4 0h-2V7h2v10zm4 0h-2v-4h2v4z\"/>\n",
              "    </g>\n",
              "</svg>\n",
              "  </button>\n",
              "\n",
              "<style>\n",
              "  .colab-df-quickchart {\n",
              "      --bg-color: #E8F0FE;\n",
              "      --fill-color: #1967D2;\n",
              "      --hover-bg-color: #E2EBFA;\n",
              "      --hover-fill-color: #174EA6;\n",
              "      --disabled-fill-color: #AAA;\n",
              "      --disabled-bg-color: #DDD;\n",
              "  }\n",
              "\n",
              "  [theme=dark] .colab-df-quickchart {\n",
              "      --bg-color: #3B4455;\n",
              "      --fill-color: #D2E3FC;\n",
              "      --hover-bg-color: #434B5C;\n",
              "      --hover-fill-color: #FFFFFF;\n",
              "      --disabled-bg-color: #3B4455;\n",
              "      --disabled-fill-color: #666;\n",
              "  }\n",
              "\n",
              "  .colab-df-quickchart {\n",
              "    background-color: var(--bg-color);\n",
              "    border: none;\n",
              "    border-radius: 50%;\n",
              "    cursor: pointer;\n",
              "    display: none;\n",
              "    fill: var(--fill-color);\n",
              "    height: 32px;\n",
              "    padding: 0;\n",
              "    width: 32px;\n",
              "  }\n",
              "\n",
              "  .colab-df-quickchart:hover {\n",
              "    background-color: var(--hover-bg-color);\n",
              "    box-shadow: 0 1px 2px rgba(60, 64, 67, 0.3), 0 1px 3px 1px rgba(60, 64, 67, 0.15);\n",
              "    fill: var(--button-hover-fill-color);\n",
              "  }\n",
              "\n",
              "  .colab-df-quickchart-complete:disabled,\n",
              "  .colab-df-quickchart-complete:disabled:hover {\n",
              "    background-color: var(--disabled-bg-color);\n",
              "    fill: var(--disabled-fill-color);\n",
              "    box-shadow: none;\n",
              "  }\n",
              "\n",
              "  .colab-df-spinner {\n",
              "    border: 2px solid var(--fill-color);\n",
              "    border-color: transparent;\n",
              "    border-bottom-color: var(--fill-color);\n",
              "    animation:\n",
              "      spin 1s steps(1) infinite;\n",
              "  }\n",
              "\n",
              "  @keyframes spin {\n",
              "    0% {\n",
              "      border-color: transparent;\n",
              "      border-bottom-color: var(--fill-color);\n",
              "      border-left-color: var(--fill-color);\n",
              "    }\n",
              "    20% {\n",
              "      border-color: transparent;\n",
              "      border-left-color: var(--fill-color);\n",
              "      border-top-color: var(--fill-color);\n",
              "    }\n",
              "    30% {\n",
              "      border-color: transparent;\n",
              "      border-left-color: var(--fill-color);\n",
              "      border-top-color: var(--fill-color);\n",
              "      border-right-color: var(--fill-color);\n",
              "    }\n",
              "    40% {\n",
              "      border-color: transparent;\n",
              "      border-right-color: var(--fill-color);\n",
              "      border-top-color: var(--fill-color);\n",
              "    }\n",
              "    60% {\n",
              "      border-color: transparent;\n",
              "      border-right-color: var(--fill-color);\n",
              "    }\n",
              "    80% {\n",
              "      border-color: transparent;\n",
              "      border-right-color: var(--fill-color);\n",
              "      border-bottom-color: var(--fill-color);\n",
              "    }\n",
              "    90% {\n",
              "      border-color: transparent;\n",
              "      border-bottom-color: var(--fill-color);\n",
              "    }\n",
              "  }\n",
              "</style>\n",
              "\n",
              "  <script>\n",
              "    async function quickchart(key) {\n",
              "      const quickchartButtonEl =\n",
              "        document.querySelector('#' + key + ' button');\n",
              "      quickchartButtonEl.disabled = true;  // To prevent multiple clicks.\n",
              "      quickchartButtonEl.classList.add('colab-df-spinner');\n",
              "      try {\n",
              "        const charts = await google.colab.kernel.invokeFunction(\n",
              "            'suggestCharts', [key], {});\n",
              "      } catch (error) {\n",
              "        console.error('Error during call to suggestCharts:', error);\n",
              "      }\n",
              "      quickchartButtonEl.classList.remove('colab-df-spinner');\n",
              "      quickchartButtonEl.classList.add('colab-df-quickchart-complete');\n",
              "    }\n",
              "    (() => {\n",
              "      let quickchartButtonEl =\n",
              "        document.querySelector('#df-17f876e7-9773-4e65-91d8-d67290e645ef button');\n",
              "      quickchartButtonEl.style.display =\n",
              "        google.colab.kernel.accessAllowed ? 'block' : 'none';\n",
              "    })();\n",
              "  </script>\n",
              "</div>\n",
              "\n",
              "  <div id=\"id_7d48672e-e674-4a80-952a-479a28c34116\">\n",
              "    <style>\n",
              "      .colab-df-generate {\n",
              "        background-color: #E8F0FE;\n",
              "        border: none;\n",
              "        border-radius: 50%;\n",
              "        cursor: pointer;\n",
              "        display: none;\n",
              "        fill: #1967D2;\n",
              "        height: 32px;\n",
              "        padding: 0 0 0 0;\n",
              "        width: 32px;\n",
              "      }\n",
              "\n",
              "      .colab-df-generate:hover {\n",
              "        background-color: #E2EBFA;\n",
              "        box-shadow: 0px 1px 2px rgba(60, 64, 67, 0.3), 0px 1px 3px 1px rgba(60, 64, 67, 0.15);\n",
              "        fill: #174EA6;\n",
              "      }\n",
              "\n",
              "      [theme=dark] .colab-df-generate {\n",
              "        background-color: #3B4455;\n",
              "        fill: #D2E3FC;\n",
              "      }\n",
              "\n",
              "      [theme=dark] .colab-df-generate:hover {\n",
              "        background-color: #434B5C;\n",
              "        box-shadow: 0px 1px 3px 1px rgba(0, 0, 0, 0.15);\n",
              "        filter: drop-shadow(0px 1px 2px rgba(0, 0, 0, 0.3));\n",
              "        fill: #FFFFFF;\n",
              "      }\n",
              "    </style>\n",
              "    <button class=\"colab-df-generate\" onclick=\"generateWithVariable('movie_df_new')\"\n",
              "            title=\"Generate code using this dataframe.\"\n",
              "            style=\"display:none;\">\n",
              "\n",
              "  <svg xmlns=\"http://www.w3.org/2000/svg\" height=\"24px\"viewBox=\"0 0 24 24\"\n",
              "       width=\"24px\">\n",
              "    <path d=\"M7,19H8.4L18.45,9,17,7.55,7,17.6ZM5,21V16.75L18.45,3.32a2,2,0,0,1,2.83,0l1.4,1.43a1.91,1.91,0,0,1,.58,1.4,1.91,1.91,0,0,1-.58,1.4L9.25,21ZM18.45,9,17,7.55Zm-12,3A5.31,5.31,0,0,0,4.9,8.1,5.31,5.31,0,0,0,1,6.5,5.31,5.31,0,0,0,4.9,4.9,5.31,5.31,0,0,0,6.5,1,5.31,5.31,0,0,0,8.1,4.9,5.31,5.31,0,0,0,12,6.5,5.46,5.46,0,0,0,6.5,12Z\"/>\n",
              "  </svg>\n",
              "    </button>\n",
              "    <script>\n",
              "      (() => {\n",
              "      const buttonEl =\n",
              "        document.querySelector('#id_7d48672e-e674-4a80-952a-479a28c34116 button.colab-df-generate');\n",
              "      buttonEl.style.display =\n",
              "        google.colab.kernel.accessAllowed ? 'block' : 'none';\n",
              "\n",
              "      buttonEl.onclick = () => {\n",
              "        google.colab.notebook.generateWithVariable('movie_df_new');\n",
              "      }\n",
              "      })();\n",
              "    </script>\n",
              "  </div>\n",
              "\n",
              "    </div>\n",
              "  </div>\n"
            ],
            "application/vnd.google.colaboratory.intrinsic+json": {
              "type": "dataframe",
              "variable_name": "movie_df_new",
              "summary": "{\n  \"name\": \"movie_df_new\",\n  \"rows\": 10524,\n  \"fields\": [\n    {\n      \"column\": \"name\",\n      \"properties\": {\n        \"dtype\": \"string\",\n        \"num_unique_values\": 10074,\n        \"samples\": [\n          \"The Dub\",\n          \"Across the Great Divide\",\n          \"Voice of Firestone: Ferruccio Tagliavini in Opera and Song\"\n        ],\n        \"semantic_type\": \"\",\n        \"description\": \"\"\n      }\n    },\n    {\n      \"column\": \"genre\",\n      \"properties\": {\n        \"dtype\": \"category\",\n        \"num_unique_values\": 590,\n        \"samples\": [\n          \"Children's/Family, Historical Film\",\n          \"Action, Crime, Thriller\",\n          \"Historical Film, Action\"\n        ],\n        \"semantic_type\": \"\",\n        \"description\": \"\"\n      }\n    },\n    {\n      \"column\": \"released_at\",\n      \"properties\": {\n        \"dtype\": \"date\",\n        \"min\": \"1906-01-01 00:00:00\",\n        \"max\": \"2020-01-01 00:00:00\",\n        \"num_unique_values\": 1825,\n        \"samples\": [\n          \"1961-10-20 00:00:00\",\n          \"1936-05-15 00:00:00\",\n          \"1961-05-14 00:00:00\"\n        ],\n        \"semantic_type\": \"\",\n        \"description\": \"\"\n      }\n    },\n    {\n      \"column\": \"language\",\n      \"properties\": {\n        \"dtype\": \"category\",\n        \"num_unique_values\": 2,\n        \"samples\": [\n          \"English\",\n          \"\"\n        ],\n        \"semantic_type\": \"\",\n        \"description\": \"\"\n      }\n    },\n    {\n      \"column\": \"director\",\n      \"properties\": {\n        \"dtype\": \"category\",\n        \"num_unique_values\": 3404,\n        \"samples\": [\n          \"Bruno Corbucci\",\n          \"Ken Hughes\"\n        ],\n        \"semantic_type\": \"\",\n        \"description\": \"\"\n      }\n    },\n    {\n      \"column\": \"domain\",\n      \"properties\": {\n        \"dtype\": \"category\",\n        \"num_unique_values\": 1,\n        \"samples\": [\n          \"https://www.allmovie.com/\"\n        ],\n        \"semantic_type\": \"\",\n        \"description\": \"\"\n      }\n    },\n    {\n      \"column\": \"duration\",\n      \"properties\": {\n        \"dtype\": \"category\",\n        \"num_unique_values\": 216,\n        \"samples\": [\n          \"5H33M\"\n        ],\n        \"semantic_type\": \"\",\n        \"description\": \"\"\n      }\n    },\n    {\n      \"column\": \"synopsis\",\n      \"properties\": {\n        \"dtype\": \"string\",\n        \"num_unique_values\": 6596,\n        \"samples\": [\n          \"This sci-fi adventure was the pilot for a television series Space: 1999. It is set in the next century just after an enormous blast from an alien ship destroys half the moon and sends the rest hurtling through space. Unfortunately, upon the chunk of speeding rock is the research station Alpha which contains 311 people helmed by cool-headed Commander Koenig. Now the Alpha castaways must not only continue to survive, they must also keep up on their research to discover what happened and why.\"\n        ],\n        \"semantic_type\": \"\",\n        \"description\": \"\"\n      }\n    },\n    {\n      \"column\": \"average_rating\",\n      \"properties\": {\n        \"dtype\": \"category\",\n        \"num_unique_values\": 87,\n        \"samples\": [\n          \"8.6\"\n        ],\n        \"semantic_type\": \"\",\n        \"description\": \"\"\n      }\n    },\n    {\n      \"column\": \"cast\",\n      \"properties\": {\n        \"dtype\": \"category\",\n        \"num_unique_values\": 5054,\n        \"samples\": [\n          \"The Baron and the Kid, June Carter Cash, Johnny Cash, The Gambler, Tracy Pollan, Kenny Rogers, Greg Webb\"\n        ],\n        \"semantic_type\": \"\",\n        \"description\": \"\"\n      }\n    },\n    {\n      \"column\": \"_id\",\n      \"properties\": {\n        \"dtype\": \"string\",\n        \"num_unique_values\": 10524,\n        \"samples\": [\n          \"e2f7d136-dabb-586d-a1e0-75b8c2d8d8aa\"\n        ],\n        \"semantic_type\": \"\",\n        \"description\": \"\"\n      }\n    }\n  ]\n}"
            }
          },
          "metadata": {},
          "execution_count": 12
        }
      ]
    },
    {
      "cell_type": "markdown",
      "source": [
        "( 1-10, 10 pts) Using movie_df_new, create a new variable called movie_df_new_rename with the\n",
        "changed names as shown below.\n"
      ],
      "metadata": {
        "id": "Z3qMC1nRKdh_"
      }
    },
    {
      "cell_type": "code",
      "source": [
        "movie_df_new.columns #View the current variable and start changing it\n",
        "\n",
        "movie_df_new = movie_df_new.rename(columns={ #Renaming variables via rename\n",
        "    'name': 'MovieTitle',\n",
        "    'genre': 'Genre',\n",
        "     'released_at': 'ReleaseDate',\n",
        "     'language': 'Language'\n",
        "})\n",
        "movie_df_new['Year'] = movie_df_new['ReleaseDate'].dt.strftime('%Y') #We also created and added a new variable for the year\n",
        "movie_df_new.columns #Outputting the final copy"
      ],
      "metadata": {
        "colab": {
          "base_uri": "https://localhost:8080/"
        },
        "id": "qFr0oeaWKfCv",
        "outputId": "f9f11c21-cc45-4c0e-8418-e83b2f01b663"
      },
      "execution_count": null,
      "outputs": [
        {
          "output_type": "execute_result",
          "data": {
            "text/plain": [
              "Index(['MovieTitle', 'Genre', 'ReleaseDate', 'Language', 'director', 'domain',\n",
              "       'duration', 'synopsis', 'average_rating', 'cast', '_id', 'Year'],\n",
              "      dtype='object')"
            ]
          },
          "metadata": {},
          "execution_count": 15
        }
      ]
    },
    {
      "cell_type": "markdown",
      "source": [
        "# < Question 2 – Numpy Array >"
      ],
      "metadata": {
        "id": "KohvMDZZiqJq"
      }
    },
    {
      "cell_type": "markdown",
      "source": [
        "( 2-1, 2.5 pts ) Generate numpy matrix as shown below."
      ],
      "metadata": {
        "id": "IWmP4qkIisU5"
      }
    },
    {
      "cell_type": "code",
      "source": [
        "import numpy as np #numpy module import\n"
      ],
      "metadata": {
        "id": "lUbtuzkoivj5"
      },
      "execution_count": null,
      "outputs": []
    },
    {
      "cell_type": "code",
      "source": [
        "arr = np.arange(1,10,2) #Specify a new array, only odd numbers from 1 to 10\n",
        "arr"
      ],
      "metadata": {
        "colab": {
          "base_uri": "https://localhost:8080/"
        },
        "id": "VKx10lHrjbRr",
        "outputId": "f8aa48bb-9092-4314-d7b0-b3ac106402b7"
      },
      "execution_count": null,
      "outputs": [
        {
          "output_type": "execute_result",
          "data": {
            "text/plain": [
              "array([1, 3, 5, 7, 9])"
            ]
          },
          "metadata": {},
          "execution_count": 21
        }
      ]
    },
    {
      "cell_type": "markdown",
      "source": [
        "( 2-2, 2.5 pts ) Generate numpy matrix as shown below."
      ],
      "metadata": {
        "id": "bSMql5Gxj9lt"
      }
    },
    {
      "cell_type": "code",
      "source": [
        "arr = np.arange(1, 12, 2).reshape(2, 3) #Create an odd array of 1 to 12 in arr, then adjust it to fit into a two-dimensional array of three\n",
        "arr"
      ],
      "metadata": {
        "colab": {
          "base_uri": "https://localhost:8080/"
        },
        "id": "GMGtDqsOkAgN",
        "outputId": "2e2e76f6-94ce-4669-cade-8a8f667b9266"
      },
      "execution_count": null,
      "outputs": [
        {
          "output_type": "execute_result",
          "data": {
            "text/plain": [
              "array([[ 1,  3,  5],\n",
              "       [ 7,  9, 11]])"
            ]
          },
          "metadata": {},
          "execution_count": 22
        }
      ]
    },
    {
      "cell_type": "markdown",
      "source": [
        "( 2-3, 2.5 pts ) Generate numpy matrix as shown below."
      ],
      "metadata": {
        "id": "1N64czaQlYTv"
      }
    },
    {
      "cell_type": "code",
      "source": [
        "arr = np.arange(1,16,2).reshape(4,2) #Create an array of odd numbers from 1 to 16 in arr, then adjust it to fit into a four-dimensional array by two\n",
        "arr"
      ],
      "metadata": {
        "colab": {
          "base_uri": "https://localhost:8080/"
        },
        "id": "qCkdeO6klbNo",
        "outputId": "cfa9138c-221d-4706-ef96-02c0be735196"
      },
      "execution_count": null,
      "outputs": [
        {
          "output_type": "execute_result",
          "data": {
            "text/plain": [
              "array([[ 1,  3],\n",
              "       [ 5,  7],\n",
              "       [ 9, 11],\n",
              "       [13, 15]])"
            ]
          },
          "metadata": {},
          "execution_count": 24
        }
      ]
    },
    {
      "cell_type": "markdown",
      "source": [
        "( 2-4, 2.5 pts ) Generate numpy matrix as shown below."
      ],
      "metadata": {
        "id": "kBUWg-6_mKgm"
      }
    },
    {
      "cell_type": "code",
      "source": [
        "arr = np.arange(1,10).reshape(3,3)#Create an array from 1 to 9 in arr, then adjust it to fit into a three-dimensional array of three\n",
        "arr"
      ],
      "metadata": {
        "colab": {
          "base_uri": "https://localhost:8080/"
        },
        "id": "O-qW9-ZMmNv8",
        "outputId": "2405f0b5-affe-40f7-f277-687ebe7d988f"
      },
      "execution_count": null,
      "outputs": [
        {
          "output_type": "execute_result",
          "data": {
            "text/plain": [
              "array([[1, 2, 3],\n",
              "       [4, 5, 6],\n",
              "       [7, 8, 9]])"
            ]
          },
          "metadata": {},
          "execution_count": 25
        }
      ]
    },
    {
      "cell_type": "markdown",
      "source": [
        "( 2-5, 10 pts, 2.5 pts each ) Given numpy matrix, mynumpy, answer the following questions: 1) summation of 0D, 2) average of 1D, 3) maximum value, and 4) standard deviation. (Hint: Adjust the axis parameter for questions 2-5-1 and 2-5-2)"
      ],
      "metadata": {
        "id": "j5gowwprmTZj"
      }
    },
    {
      "cell_type": "code",
      "source": [
        "arr = np.arange(5,91,5).reshape(6,3) #First, create an array matrix\n",
        "arr"
      ],
      "metadata": {
        "colab": {
          "base_uri": "https://localhost:8080/"
        },
        "id": "v1tNndL4mUBK",
        "outputId": "e917a062-006e-4beb-9d8b-ea5c1b2775fb"
      },
      "execution_count": null,
      "outputs": [
        {
          "output_type": "execute_result",
          "data": {
            "text/plain": [
              "array([[ 5, 10, 15],\n",
              "       [20, 25, 30],\n",
              "       [35, 40, 45],\n",
              "       [50, 55, 60],\n",
              "       [65, 70, 75],\n",
              "       [80, 85, 90]])"
            ]
          },
          "metadata": {},
          "execution_count": 27
        }
      ]
    },
    {
      "cell_type": "code",
      "source": [
        "# questioin1\n",
        "sum_0d = np.sum(arr) # Adds up the total value of the array metrics you created\n",
        "print(sum_0d)"
      ],
      "metadata": {
        "colab": {
          "base_uri": "https://localhost:8080/"
        },
        "id": "bwXnn8X-n0MW",
        "outputId": "5c561b24-4ebb-4fab-e7e2-be1888e7b36e"
      },
      "execution_count": null,
      "outputs": [
        {
          "output_type": "stream",
          "name": "stdout",
          "text": [
            "855\n"
          ]
        }
      ]
    },
    {
      "cell_type": "code",
      "source": [
        "#question2\n",
        "avg_1d = np.mean(arr, axis=1) #Find the average for each column of an array metric\n",
        "print(avg_1d)"
      ],
      "metadata": {
        "colab": {
          "base_uri": "https://localhost:8080/"
        },
        "id": "wvy30vV4n4bw",
        "outputId": "bfcbca01-d8cf-4cf2-bb2d-db5b1489fa33"
      },
      "execution_count": null,
      "outputs": [
        {
          "output_type": "stream",
          "name": "stdout",
          "text": [
            "[10. 25. 40. 55. 70. 85.]\n"
          ]
        }
      ]
    },
    {
      "cell_type": "code",
      "source": [
        "#question3\n",
        "max_value = np.max(arr) #Returns the largest value in an array metric\n",
        "print(max_value)"
      ],
      "metadata": {
        "colab": {
          "base_uri": "https://localhost:8080/"
        },
        "id": "CyXrRkBin6Rn",
        "outputId": "4bc7dd43-a1be-4e49-e4ab-c890cab88177"
      },
      "execution_count": null,
      "outputs": [
        {
          "output_type": "stream",
          "name": "stdout",
          "text": [
            "90\n"
          ]
        }
      ]
    },
    {
      "cell_type": "code",
      "source": [
        "#question4\n",
        "std_dev = np.std(arr) #Get the std value, standard deviation of an array metric\n",
        "print(std_dev)"
      ],
      "metadata": {
        "colab": {
          "base_uri": "https://localhost:8080/"
        },
        "id": "bnMA_3Jsn8gf",
        "outputId": "2f5e59e7-bc55-4da4-b6ff-56b97c227d65"
      },
      "execution_count": null,
      "outputs": [
        {
          "output_type": "stream",
          "name": "stdout",
          "text": [
            "25.940637360455632\n"
          ]
        }
      ]
    }
  ]
}