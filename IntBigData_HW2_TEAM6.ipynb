{
  "nbformat": 4,
  "nbformat_minor": 0,
  "metadata": {
    "colab": {
      "provenance": [],
      "collapsed_sections": [
        "oQ24xzGs2328"
      ]
    },
    "kernelspec": {
      "name": "python3",
      "display_name": "Python 3"
    },
    "language_info": {
      "name": "python"
    }
  },
  "cells": [
    {
      "cell_type": "markdown",
      "source": [
        "###Introduction to Big Data\n",
        "- HW:2\n",
        "- TEAM: 6\n",
        "- Memebers: 22000245 문벼리, 22200105 김수빈, 22300453 오연수\n",
        "        "
      ],
      "metadata": {
        "id": "JXeMnCg0d54V"
      }
    },
    {
      "cell_type": "markdown",
      "source": [
        "# < Question 1 – List >"
      ],
      "metadata": {
        "id": "v7l5kZuTJMUT"
      }
    },
    {
      "cell_type": "markdown",
      "source": [
        "**(1-1, 5 pts) Write down Python codes that generates the variable called my_list as follows.**"
      ],
      "metadata": {
        "id": "6NPGCtFbJPoc"
      }
    },
    {
      "cell_type": "code",
      "source": [
        "my_list = [1,2,3,'5','NewJeans',[2,4],['INFP','ENFP']] #Store 1,2,3,'5', 'NewJeans',[2,4],['INFP','ENFP'] as a list in a variable called my list, with each element as a separate element"
      ],
      "metadata": {
        "id": "WDCL4QXlJQh3"
      },
      "execution_count": null,
      "outputs": []
    },
    {
      "cell_type": "code",
      "source": [
        "my_list"
      ],
      "metadata": {
        "colab": {
          "base_uri": "https://localhost:8080/"
        },
        "id": "GpjJ3WRjJnkX",
        "outputId": "2bd22b8a-5f6d-409d-f582-5346510100b6"
      },
      "execution_count": null,
      "outputs": [
        {
          "output_type": "execute_result",
          "data": {
            "text/plain": [
              "[1, 2, 3, '5', 'NewJeans', [2, 4], ['INFP', 'ENFP']]"
            ]
          },
          "metadata": {},
          "execution_count": 9
        }
      ]
    },
    {
      "cell_type": "markdown",
      "source": [
        "**(1-2, 5 pts) How many elements are there in my_list? Write down Python codes for this question.**"
      ],
      "metadata": {
        "id": "oteRcwLsJqGT"
      }
    },
    {
      "cell_type": "code",
      "source": [
        "len(my_list) #Counting through len to see how many elements we currently have"
      ],
      "metadata": {
        "colab": {
          "base_uri": "https://localhost:8080/"
        },
        "id": "C2RrmJEqJr_E",
        "outputId": "31448cba-24c4-4188-f434-fb1c16b3515c"
      },
      "execution_count": null,
      "outputs": [
        {
          "output_type": "execute_result",
          "data": {
            "text/plain": [
              "7"
            ]
          },
          "metadata": {},
          "execution_count": 3
        }
      ]
    },
    {
      "cell_type": "markdown",
      "source": [
        "**(1-3, 5 pts) Write down Python codes that updates my_list as shown below.**"
      ],
      "metadata": {
        "id": "4bVTe_BDKA5s"
      }
    },
    {
      "cell_type": "code",
      "source": [
        "my_list[0] = 'One' #Replace the first element in the list with One\n",
        "my_list.append('HGU')# Adding HGUs to the end of the list\n",
        "\n",
        "my_list"
      ],
      "metadata": {
        "colab": {
          "base_uri": "https://localhost:8080/"
        },
        "id": "379ZMdU2KCyW",
        "outputId": "ba47bd42-b544-4736-e78d-ca9b6b430fe5"
      },
      "execution_count": null,
      "outputs": [
        {
          "output_type": "execute_result",
          "data": {
            "text/plain": [
              "['One', 2, 3, '5', 'NewJeans', [2, 4], ['INFP', 'ENFP'], 'HGU']"
            ]
          },
          "metadata": {},
          "execution_count": 10
        }
      ]
    },
    {
      "cell_type": "markdown",
      "source": [
        "**(1-4, 5 pts) Write down Python codes that returns the odd elements of my_list from the reverse direction**"
      ],
      "metadata": {
        "id": "0iBNUcB0K5mu"
      }
    },
    {
      "cell_type": "code",
      "source": [
        "my_list1 = [] #Create one empty list\n",
        "for i in range(len(my_list)): #Iterate over the number of indices in the existing list\n",
        "  if i % 2 == 1: #If the index is odd\n",
        "    my_list1.insert(0,my_list[i]) # Stores the value with the odd index at position 0 of the new list\n",
        "my_list1"
      ],
      "metadata": {
        "colab": {
          "base_uri": "https://localhost:8080/"
        },
        "id": "enmSfZ--LCh9",
        "outputId": "d2954f29-b6f3-42db-e6f2-6e467850fbe5"
      },
      "execution_count": null,
      "outputs": [
        {
          "output_type": "execute_result",
          "data": {
            "text/plain": [
              "['HGU', [2, 4], '5', 2]"
            ]
          },
          "metadata": {},
          "execution_count": 15
        }
      ]
    },
    {
      "cell_type": "markdown",
      "source": [
        " **(1-5, 5 pts) So far, what you have done is “packing” technique. Using “unpacking”, create two\n",
        "variables called MBTI_1 and MBTI_2 from my_list as shown below**"
      ],
      "metadata": {
        "id": "aN6BqEX5MoW7"
      }
    },
    {
      "cell_type": "code",
      "source": [
        "MBTI_1, MBTI_2 = my_list[-2] # Unpack the 2 mbti contents of the -2nd element in the list ['INFP','ENFP'] and assign them to each\n",
        "\n",
        "print(MBTI_1, MBTI_2)"
      ],
      "metadata": {
        "colab": {
          "base_uri": "https://localhost:8080/"
        },
        "id": "Kb3ep86GM3Bm",
        "outputId": "821f8e3e-b0b8-4c7a-ff83-db2b45f0cafb"
      },
      "execution_count": null,
      "outputs": [
        {
          "output_type": "stream",
          "name": "stdout",
          "text": [
            "INFP ENFP\n"
          ]
        }
      ]
    },
    {
      "cell_type": "markdown",
      "source": [
        "\n",
        "**(1-6, 5 pts) The new variable called my_list_ed is shown below. How is it different from my_list? If\n",
        "you could find the difference, explain when this sort of data structure is often used in Python\n",
        "Programming.**"
      ],
      "metadata": {
        "id": "T8a7_BN1NcXN"
      }
    },
    {
      "cell_type": "code",
      "source": [
        ">>> my_list_ed (1, 2, 3, '5', 'NewJeans', [2, 4], ['INFP', 'ENFP'])"
      ],
      "metadata": {
        "id": "ogaIxVIzNeRw"
      },
      "execution_count": null,
      "outputs": []
    },
    {
      "cell_type": "code",
      "source": [
        "my_list_ed = (1, 2, 3, '5', 'NewJeans', [2, 4], ['INFP', 'ENFP']) #Store a new datatype called my_list_ed\n",
        "\n",
        "print(type(my_list_ed)) #Output the type of my_list_ed\n",
        "print(type(my_list)) #Output the type of my_list"
      ],
      "metadata": {
        "colab": {
          "base_uri": "https://localhost:8080/"
        },
        "id": "-n2MD4Ur2Nzr",
        "outputId": "4c990338-a534-4128-a890-48538648490a"
      },
      "execution_count": null,
      "outputs": [
        {
          "output_type": "stream",
          "name": "stdout",
          "text": [
            "<class 'tuple'>\n",
            "<class 'list'>\n"
          ]
        }
      ]
    },
    {
      "cell_type": "markdown",
      "source": [
        "my_list_ed는 튜플 타입으로, () 안에 데이터의 형태가 저장되어 있으며, my_list는 리스트 타입으로 []안에 데이터 형태가 저장되어 있다.\n",
        "\n",
        "my_list_ed is a tuple type, with the type of data stored in (), and my_list is a list type, with the type of data stored in []."
      ],
      "metadata": {
        "id": "qKk4q3Tn2jhd"
      }
    },
    {
      "cell_type": "markdown",
      "source": [
        "# < Question 2 – Dictionary >"
      ],
      "metadata": {
        "id": "oQ24xzGs2328"
      }
    },
    {
      "cell_type": "markdown",
      "source": [
        "**(2-1, 10 pts) Referring to the self-introduction below, create a dictionary type variable called self_int that includes the following keys: name, nationality, major, school, and age (kept all in lower cases).**"
      ],
      "metadata": {
        "id": "AJ-xE-pc25MW"
      }
    },
    {
      "cell_type": "markdown",
      "source": [
        "“Hello, everyone! My name is DS Kim and I'm from South Korea. I'm currently studying Law at Handong Global University, and I hope to become a fantastic lawyer one day. I'm really passionate about the new innovation and I'm always looking for new ways to learn and improve my skills. Lastly, I’m crazy about K-pop, and a big fan of HOT!”"
      ],
      "metadata": {
        "id": "Pf85yJXi3Jgl"
      }
    },
    {
      "cell_type": "code",
      "source": [
        "self_int = {'name':'DS Kim', # The key corresponding to the name and its value\n",
        "            'nationality': 'South Korea', #The key and value corresponding to the country\n",
        "            'major': 'Law', #The key and value corresponding to the major\n",
        "            'school': 'Handong Global University'} # The key and value for your school"
      ],
      "metadata": {
        "id": "yBfmzV4N269O"
      },
      "execution_count": null,
      "outputs": []
    },
    {
      "cell_type": "markdown",
      "source": [
        "**(2-2, 10 pts) Write down Python codes that updates self_int with following keys: Name (former name), Nationality (former nationality), Major (former major), and University (former school).**"
      ],
      "metadata": {
        "id": "RlFkLWLu3ZEY"
      }
    },
    {
      "cell_type": "code",
      "source": [
        "self_int['name'] = 'former name' #Update former name in the name key\n",
        "self_int['nationality'] = 'former nationality' #Update former nationality to the nationality key\n",
        "self_int['major'] = 'former major' #Update former major to major key\n",
        "self_int['school'] = 'former school' #Update former school to the school key\n",
        "\n",
        "print(self_int) #Then print the whole thing"
      ],
      "metadata": {
        "colab": {
          "base_uri": "https://localhost:8080/"
        },
        "id": "Bsv4s6kP3Z85",
        "outputId": "10738d9f-c4d9-41cf-fca3-dfeffc92f6ae"
      },
      "execution_count": null,
      "outputs": [
        {
          "output_type": "stream",
          "name": "stdout",
          "text": [
            "{'name': 'former name', 'nationality': 'former nationality', 'major': 'former major', 'school': 'former school'}\n"
          ]
        }
      ]
    },
    {
      "cell_type": "markdown",
      "source": [
        "**(2-3, 10 pts) Assume that we want to add “AI John” to our dictionary. AI John is HGU student from USA and he’s studying Psychology. Write down Python codes that updates self_int.**"
      ],
      "metadata": {
        "id": "iNxhJjmC3ovj"
      }
    },
    {
      "cell_type": "code",
      "source": [
        "self_int['name'] = ['former name', 'AI John'] #We need to add new values from the contents of the old self_int, so we save the old former name and the new value ai jhon as a list and add them to the dictionary\n",
        "self_int['nationality'] = ['former nationality', 'USA']\n",
        "self_int['major'] = ['former major', 'Psychology']\n",
        "self_int['school'] = ['former school', 'HGU']\n",
        "\n",
        "print(self_int)#Make sure you've updated properly\n",
        "self_int['name'][1]#Browse to the index [1] to access the newly added value"
      ],
      "metadata": {
        "colab": {
          "base_uri": "https://localhost:8080/",
          "height": 53
        },
        "id": "MkFmE2Ye3pTd",
        "outputId": "6befc3d8-c991-4b3f-d6b9-fa59857bf426"
      },
      "execution_count": null,
      "outputs": [
        {
          "output_type": "stream",
          "name": "stdout",
          "text": [
            "{'name': ['former name', 'AI John'], 'nationality': ['former nationality', 'USA'], 'major': ['former major', 'Psychology'], 'school': ['former school', 'HGU']}\n"
          ]
        },
        {
          "output_type": "execute_result",
          "data": {
            "text/plain": [
              "'AI John'"
            ],
            "application/vnd.google.colaboratory.intrinsic+json": {
              "type": "string"
            }
          },
          "metadata": {},
          "execution_count": 20
        }
      ]
    },
    {
      "cell_type": "markdown",
      "source": [
        "# < Question 3 – Conditional & Iterative Statements >"
      ],
      "metadata": {
        "id": "U63a0-zw6CQT"
      }
    },
    {
      "cell_type": "markdown",
      "source": [
        "**(3-1, 10 pts) Write down following three version of Python codes, present the result and explain why they show the different results.**\n",
        "\n"
      ],
      "metadata": {
        "id": "GTfarmj-6Ech"
      }
    },
    {
      "cell_type": "code",
      "source": [
        "#(a)\n",
        "a = 1\n",
        "if a == 1:\n",
        "  print('Hello')\n",
        "  print(\"I'm Kim\")\n"
      ],
      "metadata": {
        "colab": {
          "base_uri": "https://localhost:8080/"
        },
        "id": "yYOepGs96jza",
        "outputId": "1300a25a-8e56-48b8-d576-40d41aafa1c0"
      },
      "execution_count": null,
      "outputs": [
        {
          "output_type": "stream",
          "name": "stdout",
          "text": [
            "Hello\n",
            "I'm Kim\n"
          ]
        }
      ]
    },
    {
      "cell_type": "code",
      "source": [
        "#(b)\n",
        "a = 2\n",
        "if a == 1:\n",
        "  print('Hello')\n",
        "  print(\"I'm Kim\")\n"
      ],
      "metadata": {
        "id": "OQq0nSSn7EW7"
      },
      "execution_count": null,
      "outputs": []
    },
    {
      "cell_type": "code",
      "source": [
        "#(c)\n",
        "a = 2\n",
        "if a == 1:\n",
        "  print('Hello')\n",
        "print(\"I'm Kim\")\n"
      ],
      "metadata": {
        "colab": {
          "base_uri": "https://localhost:8080/"
        },
        "id": "Ab_zAnDW7Fkz",
        "outputId": "793e3fa8-2f37-4887-e3c7-21a97b66b6d1"
      },
      "execution_count": null,
      "outputs": [
        {
          "output_type": "stream",
          "name": "stdout",
          "text": [
            "I'm Kim\n"
          ]
        }
      ]
    },
    {
      "cell_type": "markdown",
      "source": [
        "a의 경우 조건문에 따라 조건이 맞기 때문에 조건절 안에 존재하는 print함수가 작동을 하여 결과가 출력되었고, b의 경우 조건이 True가 아니기 때문에 조건문 안에 있는 print함수가 출력되지 않았다. c의 경우에도 조건이 True가 아니기 때문에 조건문 안의 print함수는 출력되지 않았지만 이후 다음 과정에서의 print함수는 조건문 밖에 있는 함수이므로 출력이 되었다.\n",
        "\n",
        "In case a, the print function inside the conditional clause works because the condition is true according to the conditional statement, and the result is printed. In case b, the print function inside the conditional statement is not printed because the condition is not true. In case c, the print function inside the conditional statement was not printed because the condition was not true, but the print function in the next step was printed because it was outside the conditional statement."
      ],
      "metadata": {
        "id": "fNWxSx8Q7IvV"
      }
    },
    {
      "cell_type": "markdown",
      "source": [
        "**(3-2, 10 pts) Assume that you are playing “3-6-9 삼육구 game”. If your number contains either 3 or 6 or 9, then you must clap. If not, you must count the number. To reflect this idea to Python, write down Python codes that receives number from the user and returns the command as shown below. Make sure you use the conditional statement. (Here, use input() to receive the value from the user.)**"
      ],
      "metadata": {
        "id": "YjcKNYd47mvM"
      }
    },
    {
      "cell_type": "code",
      "source": [
        "def main():# mainFunction\n",
        "  clab()#First, run clab once\n",
        "  fini() #Then asks if you want to continue\n",
        "\n",
        "def clab(): #Function clab\n",
        "  num = input('Insert the number: ') #Stores the value entered by the user in num\n",
        "  if '3' in num or '6' in num or '9' in num: #Execute the following statement if num contains any of 3,6,9 via a loop\n",
        "    print(num,' is clap!') #Output clap! with numbers\n",
        "  else:#  If not, run the\n",
        "    print(num,' is counting numbers!') #Output number counting with numbers\n",
        "\n",
        "def fini():#Functions that ask if you want to continue\n",
        "      while True: #Keep repeating\n",
        "         user = input('Do you want to continue?') #Accept input to continue and save to user\n",
        "         if user == 'yes': #If the input is yes, then the\n",
        "            clab()#Run the clab function\n",
        "         else:#If not\n",
        "            print('programs end') #End of programme output\n",
        "            break #Terminate the subsequent iteration\n",
        "\n",
        "\n",
        "\n",
        "\n",
        "if __name__ == '__main__':\n",
        "  main() #Run the main function\n"
      ],
      "metadata": {
        "colab": {
          "base_uri": "https://localhost:8080/"
        },
        "id": "DveLCv3l7mJE",
        "outputId": "25b97f40-bcdd-4f57-f7b4-fb232a801d26"
      },
      "execution_count": null,
      "outputs": [
        {
          "output_type": "stream",
          "name": "stdout",
          "text": [
            "Insert the number: 2\n",
            "2  is counting numbers!\n",
            "Do you want to continue?ㅜㅐ\n",
            "programs end\n"
          ]
        }
      ]
    },
    {
      "cell_type": "markdown",
      "source": [
        "**(3-3, 10 pts) Write down following two versions of Python codes, present the result and explain why they show the different results.**"
      ],
      "metadata": {
        "id": "EXurKb0I-jHr"
      }
    },
    {
      "cell_type": "code",
      "source": [
        "#(a)\n",
        "\n",
        "for i in [1,2,3,4,5]:\n",
        "  print(i)"
      ],
      "metadata": {
        "colab": {
          "base_uri": "https://localhost:8080/"
        },
        "id": "7PaG1fT9-luD",
        "outputId": "078f0bfc-ad36-46f7-afa1-be9773acae1f"
      },
      "execution_count": null,
      "outputs": [
        {
          "output_type": "stream",
          "name": "stdout",
          "text": [
            "1\n",
            "2\n",
            "3\n",
            "4\n",
            "5\n"
          ]
        }
      ]
    },
    {
      "cell_type": "code",
      "source": [
        "#(b)\n",
        "for i in range(5):\n",
        "  print(i)"
      ],
      "metadata": {
        "colab": {
          "base_uri": "https://localhost:8080/"
        },
        "id": "4KoyZnse-vLj",
        "outputId": "d5d066fd-5857-4dba-f8f3-edd9dae5f360"
      },
      "execution_count": null,
      "outputs": [
        {
          "output_type": "stream",
          "name": "stdout",
          "text": [
            "0\n",
            "1\n",
            "2\n",
            "3\n",
            "4\n"
          ]
        }
      ]
    },
    {
      "cell_type": "markdown",
      "source": [
        "a에서는 리스트 [1,2,3,4,5]의 요소 각각을 i에 매칭시키며 반복을 하였기에 1번째 매칭에서 i=1이 할당된다. 즉, i는 1부터 5까지 한번씩 매칭되며 그 값을 출력하게 된다. b에서는 range를 통해 5개의 값을 부여하는데, 이때 파이썬에서는 기본적으로 시작조건이 주어지지 않았을 때, 그 값을 0부터 시작하게 되므로 i는 0부터 4까지의 값을 가지게 된다.\n",
        "\n",
        "In a, we iterate over each element of the list [1,2,3,4,5] and match it to i, so the first match assigns i=1. In other words, i is matched once from 1 to 5 and its value is printed. In b, we give a range of 5 values, which Python defaults to starting at 0 when no starting condition is given, so i has values from 0 to 4."
      ],
      "metadata": {
        "id": "R5FIrnV1-0J7"
      }
    },
    {
      "cell_type": "markdown",
      "source": [
        "**(3-4, 10 pts) Sample code is written to generate the expected result shown below, however, the different results are returned. Explain why different results are obtained and fix the sample code to obtain expected result.**"
      ],
      "metadata": {
        "id": "ruO98zhM_N6z"
      }
    },
    {
      "cell_type": "code",
      "source": [
        "value = 30\n",
        "\n",
        "while 0 < value:\n",
        "  value = value - 5\n",
        "  print(value)\n",
        "print(\"last value=\",value)"
      ],
      "metadata": {
        "colab": {
          "base_uri": "https://localhost:8080/"
        },
        "id": "I4tY92Zn_Nc1",
        "outputId": "7bd7145e-77a7-426f-f2c0-5aaf066b6acf"
      },
      "execution_count": null,
      "outputs": [
        {
          "output_type": "stream",
          "name": "stdout",
          "text": [
            "25\n",
            "20\n",
            "15\n",
            "10\n",
            "5\n",
            "0\n",
            "last value= 0\n"
          ]
        }
      ]
    },
    {
      "cell_type": "markdown",
      "source": [
        "의도는 값이 30부터 5까지 출력되며, 마지막 값은 0으로 출력되게 하고 싶은데, 실제 코드를 실행해 보면 25부터 0까지 출력이 되고 있다. 이는 파이썬의 top-down방식때문으로, while반복문 안에서 가장 먼저 value의 값을 5만큼 깍은 다음 출력하기 때문에 최초의 값인 30에서 5가 깍인 25가 출력되는 것이며, 마지막 0이 들어간 것 역시 value를 출력하고 깍은 것이 아닌 깍고 출력해서 생긴 일이다. 이를 의도대로 하기 위해서는 순서를 바꾸어 print(value)가 먼저 실행되도록 수정하면 된다.\n",
        "\n",
        "The intention is to print the value from 30 to 5, with the last value being 0. However, when we run the code, we get 25 to 0. This is because of the top-down way Python works. This is due to Python's top-down method, where the value of value is first truncated by 5 in the while loop and then printed out, so the first value of 30 is truncated by 5 and 25 is printed out, and the last zero is also caused by printing value and truncating it, not printing value and truncating it. To make this work as intended, we can reverse the order so that print(value) is executed first."
      ],
      "metadata": {
        "id": "iI-9TPqU_ko2"
      }
    },
    {
      "cell_type": "code",
      "source": [
        "value = 30\n",
        "\n",
        "while 0 < value:\n",
        "  print(value) #Reorder process\n",
        "  value = value - 5\n",
        "\n",
        "print(\"last value=\",value)"
      ],
      "metadata": {
        "colab": {
          "base_uri": "https://localhost:8080/"
        },
        "id": "G0RjLxIRAIVn",
        "outputId": "03cf7857-4134-46a4-b41e-8744e50c48f7"
      },
      "execution_count": null,
      "outputs": [
        {
          "output_type": "stream",
          "name": "stdout",
          "text": [
            "30\n",
            "25\n",
            "20\n",
            "15\n",
            "10\n",
            "5\n",
            "last value= 0\n"
          ]
        }
      ]
    }
  ]
}